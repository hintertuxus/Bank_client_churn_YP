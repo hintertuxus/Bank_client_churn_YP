{
 "cells": [
  {
   "cell_type": "markdown",
   "metadata": {},
   "source": [
    "# Иследование данных по оттоку клиентов банка"
   ]
  },
  {
   "cell_type": "markdown",
   "metadata": {},
   "source": [
    "*Из «Банка» стали уходить клиенты. Каждый месяц. Немного, но заметно. Банковские маркетологи посчитали: сохранять текущих клиентов дешевле, чем привлекать новых.*\n",
    "\n",
    "*Нужно спрогнозировать, уйдёт клиент из банка в ближайшее время или нет. Предоставлены исторические данные о поведении клиентов и расторжении договоров с банком.* \n",
    "\n",
    "*Необходимо построить модель с предельно большим значением **F1**-меры, доведя метрику до 0.59.*\n",
    "\n",
    "*Дополнительно необходимо измерить **AUC-ROC**, сравнив её значение с **F1**-мерой.*\n",
    "\n",
    "Источник данных: [https://www.kaggle.com/barelydedicated/bank-customer-churn-modeling](https://www.kaggle.com/barelydedicated/bank-customer-churn-modeling)"
   ]
  },
  {
   "cell_type": "markdown",
   "metadata": {},
   "source": [
    "__Цель исследования__\n",
    "\n",
    "Построить модель, которая позволит спрогнозировать поведение клиентов банка на основе исторических данных о поведении клиентов и расторжении договоров с банком.\n",
    "\n",
    "При этом показатель __F1-меры__ должен быть не меньше 0.59.\n",
    "\n"
   ]
  },
  {
   "cell_type": "markdown",
   "metadata": {},
   "source": [
    "__Ход исследования__\n",
    "\n",
    "Данные для исследования представлены в файле\n",
    "`/datasets/Churn.csv`. О качестве данных ничего не известно, в начале потребуется обзор данных.\n",
    "\n",
    "Затем нужно будет провести проверку баланса классов, посмотреть как работают несколько моделей машинного обучения на несбалансированных классах, выделить лучшую модель, провести балансировку и проверить модель на специально выделеной для этого тестовой выборке."
   ]
  },
  {
   "cell_type": "markdown",
   "metadata": {},
   "source": [
    "_Перед началом работы загрузим необходимые библиотеки_"
   ]
  },
  {
   "cell_type": "code",
   "execution_count": 1,
   "metadata": {},
   "outputs": [],
   "source": [
    "import pandas as pd\n",
    "import matplotlib.pyplot as plt\n",
    "\n",
    "from sklearn.model_selection import train_test_split\n",
    "\n",
    "from sklearn.tree import DecisionTreeClassifier\n",
    "from sklearn.linear_model import LogisticRegression\n",
    "from sklearn.ensemble import RandomForestClassifier\n",
    "\n",
    "from sklearn.metrics import accuracy_score, f1_score, roc_auc_score, roc_curve \n",
    "from sklearn.utils import shuffle"
   ]
  },
  {
   "cell_type": "markdown",
   "metadata": {},
   "source": [
    "## Подготовка данных"
   ]
  },
  {
   "cell_type": "markdown",
   "metadata": {},
   "source": [
    "### Обзор данных"
   ]
  },
  {
   "cell_type": "markdown",
   "metadata": {},
   "source": [
    "Для знакомства с данными откроем файл и выведем:\n",
    "    \n",
    "1. Первые 20 строк таблицы\n",
    "\n",
    "2. Общую информацию по таблице\n",
    "\n",
    "3. Гистограммы для всех числовых столбцов таблицы"
   ]
  },
  {
   "cell_type": "code",
   "execution_count": 2,
   "metadata": {},
   "outputs": [],
   "source": [
    "try:\n",
    "    df = pd.read_csv('/datasets/Churn.csv')\n",
    "except:\n",
    "    df = pd.read_csv('https://code.s3.yandex.net/datasets/Churn.csv')"
   ]
  },
  {
   "cell_type": "code",
   "execution_count": 3,
   "metadata": {},
   "outputs": [
    {
     "data": {
      "text/html": [
       "<div>\n",
       "<style scoped>\n",
       "    .dataframe tbody tr th:only-of-type {\n",
       "        vertical-align: middle;\n",
       "    }\n",
       "\n",
       "    .dataframe tbody tr th {\n",
       "        vertical-align: top;\n",
       "    }\n",
       "\n",
       "    .dataframe thead th {\n",
       "        text-align: right;\n",
       "    }\n",
       "</style>\n",
       "<table border=\"1\" class=\"dataframe\">\n",
       "  <thead>\n",
       "    <tr style=\"text-align: right;\">\n",
       "      <th></th>\n",
       "      <th>RowNumber</th>\n",
       "      <th>CustomerId</th>\n",
       "      <th>Surname</th>\n",
       "      <th>CreditScore</th>\n",
       "      <th>Geography</th>\n",
       "      <th>Gender</th>\n",
       "      <th>Age</th>\n",
       "      <th>Tenure</th>\n",
       "      <th>Balance</th>\n",
       "      <th>NumOfProducts</th>\n",
       "      <th>HasCrCard</th>\n",
       "      <th>IsActiveMember</th>\n",
       "      <th>EstimatedSalary</th>\n",
       "      <th>Exited</th>\n",
       "    </tr>\n",
       "  </thead>\n",
       "  <tbody>\n",
       "    <tr>\n",
       "      <th>0</th>\n",
       "      <td>1</td>\n",
       "      <td>15634602</td>\n",
       "      <td>Hargrave</td>\n",
       "      <td>619</td>\n",
       "      <td>France</td>\n",
       "      <td>Female</td>\n",
       "      <td>42</td>\n",
       "      <td>2.0</td>\n",
       "      <td>0.00</td>\n",
       "      <td>1</td>\n",
       "      <td>1</td>\n",
       "      <td>1</td>\n",
       "      <td>101348.88</td>\n",
       "      <td>1</td>\n",
       "    </tr>\n",
       "    <tr>\n",
       "      <th>1</th>\n",
       "      <td>2</td>\n",
       "      <td>15647311</td>\n",
       "      <td>Hill</td>\n",
       "      <td>608</td>\n",
       "      <td>Spain</td>\n",
       "      <td>Female</td>\n",
       "      <td>41</td>\n",
       "      <td>1.0</td>\n",
       "      <td>83807.86</td>\n",
       "      <td>1</td>\n",
       "      <td>0</td>\n",
       "      <td>1</td>\n",
       "      <td>112542.58</td>\n",
       "      <td>0</td>\n",
       "    </tr>\n",
       "    <tr>\n",
       "      <th>2</th>\n",
       "      <td>3</td>\n",
       "      <td>15619304</td>\n",
       "      <td>Onio</td>\n",
       "      <td>502</td>\n",
       "      <td>France</td>\n",
       "      <td>Female</td>\n",
       "      <td>42</td>\n",
       "      <td>8.0</td>\n",
       "      <td>159660.80</td>\n",
       "      <td>3</td>\n",
       "      <td>1</td>\n",
       "      <td>0</td>\n",
       "      <td>113931.57</td>\n",
       "      <td>1</td>\n",
       "    </tr>\n",
       "    <tr>\n",
       "      <th>3</th>\n",
       "      <td>4</td>\n",
       "      <td>15701354</td>\n",
       "      <td>Boni</td>\n",
       "      <td>699</td>\n",
       "      <td>France</td>\n",
       "      <td>Female</td>\n",
       "      <td>39</td>\n",
       "      <td>1.0</td>\n",
       "      <td>0.00</td>\n",
       "      <td>2</td>\n",
       "      <td>0</td>\n",
       "      <td>0</td>\n",
       "      <td>93826.63</td>\n",
       "      <td>0</td>\n",
       "    </tr>\n",
       "    <tr>\n",
       "      <th>4</th>\n",
       "      <td>5</td>\n",
       "      <td>15737888</td>\n",
       "      <td>Mitchell</td>\n",
       "      <td>850</td>\n",
       "      <td>Spain</td>\n",
       "      <td>Female</td>\n",
       "      <td>43</td>\n",
       "      <td>2.0</td>\n",
       "      <td>125510.82</td>\n",
       "      <td>1</td>\n",
       "      <td>1</td>\n",
       "      <td>1</td>\n",
       "      <td>79084.10</td>\n",
       "      <td>0</td>\n",
       "    </tr>\n",
       "    <tr>\n",
       "      <th>5</th>\n",
       "      <td>6</td>\n",
       "      <td>15574012</td>\n",
       "      <td>Chu</td>\n",
       "      <td>645</td>\n",
       "      <td>Spain</td>\n",
       "      <td>Male</td>\n",
       "      <td>44</td>\n",
       "      <td>8.0</td>\n",
       "      <td>113755.78</td>\n",
       "      <td>2</td>\n",
       "      <td>1</td>\n",
       "      <td>0</td>\n",
       "      <td>149756.71</td>\n",
       "      <td>1</td>\n",
       "    </tr>\n",
       "    <tr>\n",
       "      <th>6</th>\n",
       "      <td>7</td>\n",
       "      <td>15592531</td>\n",
       "      <td>Bartlett</td>\n",
       "      <td>822</td>\n",
       "      <td>France</td>\n",
       "      <td>Male</td>\n",
       "      <td>50</td>\n",
       "      <td>7.0</td>\n",
       "      <td>0.00</td>\n",
       "      <td>2</td>\n",
       "      <td>1</td>\n",
       "      <td>1</td>\n",
       "      <td>10062.80</td>\n",
       "      <td>0</td>\n",
       "    </tr>\n",
       "    <tr>\n",
       "      <th>7</th>\n",
       "      <td>8</td>\n",
       "      <td>15656148</td>\n",
       "      <td>Obinna</td>\n",
       "      <td>376</td>\n",
       "      <td>Germany</td>\n",
       "      <td>Female</td>\n",
       "      <td>29</td>\n",
       "      <td>4.0</td>\n",
       "      <td>115046.74</td>\n",
       "      <td>4</td>\n",
       "      <td>1</td>\n",
       "      <td>0</td>\n",
       "      <td>119346.88</td>\n",
       "      <td>1</td>\n",
       "    </tr>\n",
       "    <tr>\n",
       "      <th>8</th>\n",
       "      <td>9</td>\n",
       "      <td>15792365</td>\n",
       "      <td>He</td>\n",
       "      <td>501</td>\n",
       "      <td>France</td>\n",
       "      <td>Male</td>\n",
       "      <td>44</td>\n",
       "      <td>4.0</td>\n",
       "      <td>142051.07</td>\n",
       "      <td>2</td>\n",
       "      <td>0</td>\n",
       "      <td>1</td>\n",
       "      <td>74940.50</td>\n",
       "      <td>0</td>\n",
       "    </tr>\n",
       "    <tr>\n",
       "      <th>9</th>\n",
       "      <td>10</td>\n",
       "      <td>15592389</td>\n",
       "      <td>H?</td>\n",
       "      <td>684</td>\n",
       "      <td>France</td>\n",
       "      <td>Male</td>\n",
       "      <td>27</td>\n",
       "      <td>2.0</td>\n",
       "      <td>134603.88</td>\n",
       "      <td>1</td>\n",
       "      <td>1</td>\n",
       "      <td>1</td>\n",
       "      <td>71725.73</td>\n",
       "      <td>0</td>\n",
       "    </tr>\n",
       "    <tr>\n",
       "      <th>10</th>\n",
       "      <td>11</td>\n",
       "      <td>15767821</td>\n",
       "      <td>Bearce</td>\n",
       "      <td>528</td>\n",
       "      <td>France</td>\n",
       "      <td>Male</td>\n",
       "      <td>31</td>\n",
       "      <td>6.0</td>\n",
       "      <td>102016.72</td>\n",
       "      <td>2</td>\n",
       "      <td>0</td>\n",
       "      <td>0</td>\n",
       "      <td>80181.12</td>\n",
       "      <td>0</td>\n",
       "    </tr>\n",
       "    <tr>\n",
       "      <th>11</th>\n",
       "      <td>12</td>\n",
       "      <td>15737173</td>\n",
       "      <td>Andrews</td>\n",
       "      <td>497</td>\n",
       "      <td>Spain</td>\n",
       "      <td>Male</td>\n",
       "      <td>24</td>\n",
       "      <td>3.0</td>\n",
       "      <td>0.00</td>\n",
       "      <td>2</td>\n",
       "      <td>1</td>\n",
       "      <td>0</td>\n",
       "      <td>76390.01</td>\n",
       "      <td>0</td>\n",
       "    </tr>\n",
       "    <tr>\n",
       "      <th>12</th>\n",
       "      <td>13</td>\n",
       "      <td>15632264</td>\n",
       "      <td>Kay</td>\n",
       "      <td>476</td>\n",
       "      <td>France</td>\n",
       "      <td>Female</td>\n",
       "      <td>34</td>\n",
       "      <td>10.0</td>\n",
       "      <td>0.00</td>\n",
       "      <td>2</td>\n",
       "      <td>1</td>\n",
       "      <td>0</td>\n",
       "      <td>26260.98</td>\n",
       "      <td>0</td>\n",
       "    </tr>\n",
       "    <tr>\n",
       "      <th>13</th>\n",
       "      <td>14</td>\n",
       "      <td>15691483</td>\n",
       "      <td>Chin</td>\n",
       "      <td>549</td>\n",
       "      <td>France</td>\n",
       "      <td>Female</td>\n",
       "      <td>25</td>\n",
       "      <td>5.0</td>\n",
       "      <td>0.00</td>\n",
       "      <td>2</td>\n",
       "      <td>0</td>\n",
       "      <td>0</td>\n",
       "      <td>190857.79</td>\n",
       "      <td>0</td>\n",
       "    </tr>\n",
       "    <tr>\n",
       "      <th>14</th>\n",
       "      <td>15</td>\n",
       "      <td>15600882</td>\n",
       "      <td>Scott</td>\n",
       "      <td>635</td>\n",
       "      <td>Spain</td>\n",
       "      <td>Female</td>\n",
       "      <td>35</td>\n",
       "      <td>7.0</td>\n",
       "      <td>0.00</td>\n",
       "      <td>2</td>\n",
       "      <td>1</td>\n",
       "      <td>1</td>\n",
       "      <td>65951.65</td>\n",
       "      <td>0</td>\n",
       "    </tr>\n",
       "    <tr>\n",
       "      <th>15</th>\n",
       "      <td>16</td>\n",
       "      <td>15643966</td>\n",
       "      <td>Goforth</td>\n",
       "      <td>616</td>\n",
       "      <td>Germany</td>\n",
       "      <td>Male</td>\n",
       "      <td>45</td>\n",
       "      <td>3.0</td>\n",
       "      <td>143129.41</td>\n",
       "      <td>2</td>\n",
       "      <td>0</td>\n",
       "      <td>1</td>\n",
       "      <td>64327.26</td>\n",
       "      <td>0</td>\n",
       "    </tr>\n",
       "    <tr>\n",
       "      <th>16</th>\n",
       "      <td>17</td>\n",
       "      <td>15737452</td>\n",
       "      <td>Romeo</td>\n",
       "      <td>653</td>\n",
       "      <td>Germany</td>\n",
       "      <td>Male</td>\n",
       "      <td>58</td>\n",
       "      <td>1.0</td>\n",
       "      <td>132602.88</td>\n",
       "      <td>1</td>\n",
       "      <td>1</td>\n",
       "      <td>0</td>\n",
       "      <td>5097.67</td>\n",
       "      <td>1</td>\n",
       "    </tr>\n",
       "    <tr>\n",
       "      <th>17</th>\n",
       "      <td>18</td>\n",
       "      <td>15788218</td>\n",
       "      <td>Henderson</td>\n",
       "      <td>549</td>\n",
       "      <td>Spain</td>\n",
       "      <td>Female</td>\n",
       "      <td>24</td>\n",
       "      <td>9.0</td>\n",
       "      <td>0.00</td>\n",
       "      <td>2</td>\n",
       "      <td>1</td>\n",
       "      <td>1</td>\n",
       "      <td>14406.41</td>\n",
       "      <td>0</td>\n",
       "    </tr>\n",
       "    <tr>\n",
       "      <th>18</th>\n",
       "      <td>19</td>\n",
       "      <td>15661507</td>\n",
       "      <td>Muldrow</td>\n",
       "      <td>587</td>\n",
       "      <td>Spain</td>\n",
       "      <td>Male</td>\n",
       "      <td>45</td>\n",
       "      <td>6.0</td>\n",
       "      <td>0.00</td>\n",
       "      <td>1</td>\n",
       "      <td>0</td>\n",
       "      <td>0</td>\n",
       "      <td>158684.81</td>\n",
       "      <td>0</td>\n",
       "    </tr>\n",
       "    <tr>\n",
       "      <th>19</th>\n",
       "      <td>20</td>\n",
       "      <td>15568982</td>\n",
       "      <td>Hao</td>\n",
       "      <td>726</td>\n",
       "      <td>France</td>\n",
       "      <td>Female</td>\n",
       "      <td>24</td>\n",
       "      <td>6.0</td>\n",
       "      <td>0.00</td>\n",
       "      <td>2</td>\n",
       "      <td>1</td>\n",
       "      <td>1</td>\n",
       "      <td>54724.03</td>\n",
       "      <td>0</td>\n",
       "    </tr>\n",
       "  </tbody>\n",
       "</table>\n",
       "</div>"
      ],
      "text/plain": [
       "    RowNumber  CustomerId    Surname  CreditScore Geography  Gender  Age  \\\n",
       "0           1    15634602   Hargrave          619    France  Female   42   \n",
       "1           2    15647311       Hill          608     Spain  Female   41   \n",
       "2           3    15619304       Onio          502    France  Female   42   \n",
       "3           4    15701354       Boni          699    France  Female   39   \n",
       "4           5    15737888   Mitchell          850     Spain  Female   43   \n",
       "5           6    15574012        Chu          645     Spain    Male   44   \n",
       "6           7    15592531   Bartlett          822    France    Male   50   \n",
       "7           8    15656148     Obinna          376   Germany  Female   29   \n",
       "8           9    15792365         He          501    France    Male   44   \n",
       "9          10    15592389         H?          684    France    Male   27   \n",
       "10         11    15767821     Bearce          528    France    Male   31   \n",
       "11         12    15737173    Andrews          497     Spain    Male   24   \n",
       "12         13    15632264        Kay          476    France  Female   34   \n",
       "13         14    15691483       Chin          549    France  Female   25   \n",
       "14         15    15600882      Scott          635     Spain  Female   35   \n",
       "15         16    15643966    Goforth          616   Germany    Male   45   \n",
       "16         17    15737452      Romeo          653   Germany    Male   58   \n",
       "17         18    15788218  Henderson          549     Spain  Female   24   \n",
       "18         19    15661507    Muldrow          587     Spain    Male   45   \n",
       "19         20    15568982        Hao          726    France  Female   24   \n",
       "\n",
       "    Tenure    Balance  NumOfProducts  HasCrCard  IsActiveMember  \\\n",
       "0      2.0       0.00              1          1               1   \n",
       "1      1.0   83807.86              1          0               1   \n",
       "2      8.0  159660.80              3          1               0   \n",
       "3      1.0       0.00              2          0               0   \n",
       "4      2.0  125510.82              1          1               1   \n",
       "5      8.0  113755.78              2          1               0   \n",
       "6      7.0       0.00              2          1               1   \n",
       "7      4.0  115046.74              4          1               0   \n",
       "8      4.0  142051.07              2          0               1   \n",
       "9      2.0  134603.88              1          1               1   \n",
       "10     6.0  102016.72              2          0               0   \n",
       "11     3.0       0.00              2          1               0   \n",
       "12    10.0       0.00              2          1               0   \n",
       "13     5.0       0.00              2          0               0   \n",
       "14     7.0       0.00              2          1               1   \n",
       "15     3.0  143129.41              2          0               1   \n",
       "16     1.0  132602.88              1          1               0   \n",
       "17     9.0       0.00              2          1               1   \n",
       "18     6.0       0.00              1          0               0   \n",
       "19     6.0       0.00              2          1               1   \n",
       "\n",
       "    EstimatedSalary  Exited  \n",
       "0         101348.88       1  \n",
       "1         112542.58       0  \n",
       "2         113931.57       1  \n",
       "3          93826.63       0  \n",
       "4          79084.10       0  \n",
       "5         149756.71       1  \n",
       "6          10062.80       0  \n",
       "7         119346.88       1  \n",
       "8          74940.50       0  \n",
       "9          71725.73       0  \n",
       "10         80181.12       0  \n",
       "11         76390.01       0  \n",
       "12         26260.98       0  \n",
       "13        190857.79       0  \n",
       "14         65951.65       0  \n",
       "15         64327.26       0  \n",
       "16          5097.67       1  \n",
       "17         14406.41       0  \n",
       "18        158684.81       0  \n",
       "19         54724.03       0  "
      ]
     },
     "execution_count": 3,
     "metadata": {},
     "output_type": "execute_result"
    }
   ],
   "source": [
    "df.head(20)"
   ]
  },
  {
   "cell_type": "code",
   "execution_count": 4,
   "metadata": {},
   "outputs": [
    {
     "name": "stdout",
     "output_type": "stream",
     "text": [
      "<class 'pandas.core.frame.DataFrame'>\n",
      "RangeIndex: 10000 entries, 0 to 9999\n",
      "Data columns (total 14 columns):\n",
      " #   Column           Non-Null Count  Dtype  \n",
      "---  ------           --------------  -----  \n",
      " 0   RowNumber        10000 non-null  int64  \n",
      " 1   CustomerId       10000 non-null  int64  \n",
      " 2   Surname          10000 non-null  object \n",
      " 3   CreditScore      10000 non-null  int64  \n",
      " 4   Geography        10000 non-null  object \n",
      " 5   Gender           10000 non-null  object \n",
      " 6   Age              10000 non-null  int64  \n",
      " 7   Tenure           9091 non-null   float64\n",
      " 8   Balance          10000 non-null  float64\n",
      " 9   NumOfProducts    10000 non-null  int64  \n",
      " 10  HasCrCard        10000 non-null  int64  \n",
      " 11  IsActiveMember   10000 non-null  int64  \n",
      " 12  EstimatedSalary  10000 non-null  float64\n",
      " 13  Exited           10000 non-null  int64  \n",
      "dtypes: float64(3), int64(8), object(3)\n",
      "memory usage: 1.1+ MB\n"
     ]
    }
   ],
   "source": [
    "df.info()"
   ]
  },
  {
   "cell_type": "markdown",
   "metadata": {},
   "source": [
    "Представлены данные о поведении клиентов банка.\n",
    "При этом предоставлена следующая информация о данных\n",
    "\n",
    "__Признаки__\n",
    "* RowNumber — индекс строки в данных\n",
    "* CustomerId — уникальный идентификатор клиента\n",
    "* Surname — фамилия\n",
    "* CreditScore — кредитный рейтинг\n",
    "* Geography — страна проживания\n",
    "* Gender — пол\n",
    "* Age — возраст\n",
    "* Tenure — сколько лет человек является клиентом банка\n",
    "* Balance — баланс на счёте\n",
    "* NumOfProducts — количество продуктов банка, используемых клиентом\n",
    "* HasCrCard — наличие кредитной карты\n",
    "* IsActiveMember — активность клиента\n",
    "* EstimatedSalary — предполагаемая зарплата\n",
    "\n",
    "\n",
    "__Целевой признак__\n",
    "* Exited — факт ухода клиента\n",
    "\n",
    "Таблица состоит из 10 тыс строк в 14 столбцах. Ряд столбцов не потребуется для построения модели (индекс, уникальный идентификатор, фамилия) и будут убраны после проверки данных на дубликаты. Типы данных определены верно. Названия столбцов необходимо привести к стандартному формату.\n"
   ]
  },
  {
   "cell_type": "code",
   "execution_count": 5,
   "metadata": {},
   "outputs": [
    {
     "data": {
      "image/png": "[encoded data removed]",
      "text/plain": [
       "<Figure size 1440x1080 with 12 Axes>"
      ]
     },
     "metadata": {
      "needs_background": "light"
     },
     "output_type": "display_data"
    }
   ],
   "source": [
    "df.hist(bins=50, figsize=(20,15));"
   ]
  },
  {
   "cell_type": "markdown",
   "metadata": {},
   "source": [
    "__Вывод:__ Для иследования предоставлены данные по клиентам банка с целевым показателем ухода. Целевой показатель распределен неравномерно, что потребует его балансировки для настройки модели. "
   ]
  },
  {
   "cell_type": "markdown",
   "metadata": {},
   "source": [
    "### Предобрабокта данных"
   ]
  },
  {
   "cell_type": "markdown",
   "metadata": {},
   "source": [
    "Первым шагом приведем все названия столбцов к единому формату"
   ]
  },
  {
   "cell_type": "code",
   "execution_count": 6,
   "metadata": {},
   "outputs": [],
   "source": [
    "df.columns = df.columns.str.lower()"
   ]
  },
  {
   "cell_type": "code",
   "execution_count": 7,
   "metadata": {},
   "outputs": [],
   "source": [
    "df = df.rename(\n",
    "    columns = {'rownumber': 'row_number', \n",
    "               'customerid': 'customer_id',\n",
    "               'creditscore': 'credit_score',\n",
    "               'numofproducts': 'num_of_products',\n",
    "               'hascrcard': 'has_cr_card',\n",
    "               'isactivemember': 'is_active_member',\n",
    "               'estimatedsalary': 'estimated_salary',}\n",
    ")"
   ]
  },
  {
   "cell_type": "code",
   "execution_count": 8,
   "metadata": {},
   "outputs": [
    {
     "data": {
      "text/plain": [
       "Index(['row_number', 'customer_id', 'surname', 'credit_score', 'geography',\n",
       "       'gender', 'age', 'tenure', 'balance', 'num_of_products', 'has_cr_card',\n",
       "       'is_active_member', 'estimated_salary', 'exited'],\n",
       "      dtype='object')"
      ]
     },
     "execution_count": 8,
     "metadata": {},
     "output_type": "execute_result"
    }
   ],
   "source": [
    "df.columns"
   ]
  },
  {
   "cell_type": "markdown",
   "metadata": {},
   "source": [
    "Теперь проверим количество пропусков в датасете."
   ]
  },
  {
   "cell_type": "code",
   "execution_count": 9,
   "metadata": {},
   "outputs": [
    {
     "data": {
      "text/plain": [
       "row_number            0\n",
       "customer_id           0\n",
       "surname               0\n",
       "credit_score          0\n",
       "geography             0\n",
       "gender                0\n",
       "age                   0\n",
       "tenure              909\n",
       "balance               0\n",
       "num_of_products       0\n",
       "has_cr_card           0\n",
       "is_active_member      0\n",
       "estimated_salary      0\n",
       "exited                0\n",
       "dtype: int64"
      ]
     },
     "execution_count": 9,
     "metadata": {},
     "output_type": "execute_result"
    }
   ],
   "source": [
    "df.isna().sum()"
   ]
  },
  {
   "cell_type": "code",
   "execution_count": 10,
   "metadata": {},
   "outputs": [
    {
     "data": {
      "text/html": [
       "<style  type=\"text/css\" >\n",
       "#T_9ae11_row0_col0,#T_9ae11_row1_col0,#T_9ae11_row2_col0,#T_9ae11_row3_col0,#T_9ae11_row4_col0,#T_9ae11_row5_col0,#T_9ae11_row6_col0,#T_9ae11_row8_col0,#T_9ae11_row9_col0,#T_9ae11_row10_col0,#T_9ae11_row11_col0,#T_9ae11_row12_col0,#T_9ae11_row13_col0{\n",
       "            background-color:  #3b4cc0;\n",
       "            color:  #f1f1f1;\n",
       "        }#T_9ae11_row7_col0{\n",
       "            background-color:  #b40426;\n",
       "            color:  #f1f1f1;\n",
       "        }</style><table id=\"T_9ae11_\" ><thead>    <tr>        <th class=\"blank level0\" ></th>        <th class=\"col_heading level0 col0\" >0</th>    </tr></thead><tbody>\n",
       "                <tr>\n",
       "                        <th id=\"T_9ae11_level0_row0\" class=\"row_heading level0 row0\" >row_number</th>\n",
       "                        <td id=\"T_9ae11_row0_col0\" class=\"data row0 col0\" >0.000000</td>\n",
       "            </tr>\n",
       "            <tr>\n",
       "                        <th id=\"T_9ae11_level0_row1\" class=\"row_heading level0 row1\" >customer_id</th>\n",
       "                        <td id=\"T_9ae11_row1_col0\" class=\"data row1 col0\" >0.000000</td>\n",
       "            </tr>\n",
       "            <tr>\n",
       "                        <th id=\"T_9ae11_level0_row2\" class=\"row_heading level0 row2\" >surname</th>\n",
       "                        <td id=\"T_9ae11_row2_col0\" class=\"data row2 col0\" >0.000000</td>\n",
       "            </tr>\n",
       "            <tr>\n",
       "                        <th id=\"T_9ae11_level0_row3\" class=\"row_heading level0 row3\" >credit_score</th>\n",
       "                        <td id=\"T_9ae11_row3_col0\" class=\"data row3 col0\" >0.000000</td>\n",
       "            </tr>\n",
       "            <tr>\n",
       "                        <th id=\"T_9ae11_level0_row4\" class=\"row_heading level0 row4\" >geography</th>\n",
       "                        <td id=\"T_9ae11_row4_col0\" class=\"data row4 col0\" >0.000000</td>\n",
       "            </tr>\n",
       "            <tr>\n",
       "                        <th id=\"T_9ae11_level0_row5\" class=\"row_heading level0 row5\" >gender</th>\n",
       "                        <td id=\"T_9ae11_row5_col0\" class=\"data row5 col0\" >0.000000</td>\n",
       "            </tr>\n",
       "            <tr>\n",
       "                        <th id=\"T_9ae11_level0_row6\" class=\"row_heading level0 row6\" >age</th>\n",
       "                        <td id=\"T_9ae11_row6_col0\" class=\"data row6 col0\" >0.000000</td>\n",
       "            </tr>\n",
       "            <tr>\n",
       "                        <th id=\"T_9ae11_level0_row7\" class=\"row_heading level0 row7\" >tenure</th>\n",
       "                        <td id=\"T_9ae11_row7_col0\" class=\"data row7 col0\" >9.000000</td>\n",
       "            </tr>\n",
       "            <tr>\n",
       "                        <th id=\"T_9ae11_level0_row8\" class=\"row_heading level0 row8\" >balance</th>\n",
       "                        <td id=\"T_9ae11_row8_col0\" class=\"data row8 col0\" >0.000000</td>\n",
       "            </tr>\n",
       "            <tr>\n",
       "                        <th id=\"T_9ae11_level0_row9\" class=\"row_heading level0 row9\" >num_of_products</th>\n",
       "                        <td id=\"T_9ae11_row9_col0\" class=\"data row9 col0\" >0.000000</td>\n",
       "            </tr>\n",
       "            <tr>\n",
       "                        <th id=\"T_9ae11_level0_row10\" class=\"row_heading level0 row10\" >has_cr_card</th>\n",
       "                        <td id=\"T_9ae11_row10_col0\" class=\"data row10 col0\" >0.000000</td>\n",
       "            </tr>\n",
       "            <tr>\n",
       "                        <th id=\"T_9ae11_level0_row11\" class=\"row_heading level0 row11\" >is_active_member</th>\n",
       "                        <td id=\"T_9ae11_row11_col0\" class=\"data row11 col0\" >0.000000</td>\n",
       "            </tr>\n",
       "            <tr>\n",
       "                        <th id=\"T_9ae11_level0_row12\" class=\"row_heading level0 row12\" >estimated_salary</th>\n",
       "                        <td id=\"T_9ae11_row12_col0\" class=\"data row12 col0\" >0.000000</td>\n",
       "            </tr>\n",
       "            <tr>\n",
       "                        <th id=\"T_9ae11_level0_row13\" class=\"row_heading level0 row13\" >exited</th>\n",
       "                        <td id=\"T_9ae11_row13_col0\" class=\"data row13 col0\" >0.000000</td>\n",
       "            </tr>\n",
       "    </tbody></table>"
      ],
      "text/plain": [
       "<pandas.io.formats.style.Styler at 0x7f30b0793b80>"
      ]
     },
     "execution_count": 10,
     "metadata": {},
     "output_type": "execute_result"
    }
   ],
   "source": [
    "pd.DataFrame(round(df.isna().mean()*100,)).style.background_gradient('coolwarm')"
   ]
  },
  {
   "cell_type": "markdown",
   "metadata": {},
   "source": [
    "Пропуски пристутствую только в столбце __tenure__. Это столбец, который показывает количество лет, в течение которых человек является клиентом банка. Отсутствие данных может быть вызвано техническим сбоем. Заполним пропуски медианой."
   ]
  },
  {
   "cell_type": "code",
   "execution_count": 11,
   "metadata": {},
   "outputs": [],
   "source": [
    "df.tenure = df.tenure.fillna(df['tenure'].median())"
   ]
  },
  {
   "cell_type": "code",
   "execution_count": 12,
   "metadata": {
    "scrolled": true
   },
   "outputs": [
    {
     "data": {
      "text/plain": [
       "row_number          0\n",
       "customer_id         0\n",
       "surname             0\n",
       "credit_score        0\n",
       "geography           0\n",
       "gender              0\n",
       "age                 0\n",
       "tenure              0\n",
       "balance             0\n",
       "num_of_products     0\n",
       "has_cr_card         0\n",
       "is_active_member    0\n",
       "estimated_salary    0\n",
       "exited              0\n",
       "dtype: int64"
      ]
     },
     "execution_count": 12,
     "metadata": {},
     "output_type": "execute_result"
    }
   ],
   "source": [
    "df.isna().sum()"
   ]
  },
  {
   "cell_type": "markdown",
   "metadata": {},
   "source": [
    "Проведем проверку на явные дубликаты."
   ]
  },
  {
   "cell_type": "code",
   "execution_count": 13,
   "metadata": {},
   "outputs": [
    {
     "data": {
      "text/plain": [
       "0"
      ]
     },
     "execution_count": 13,
     "metadata": {},
     "output_type": "execute_result"
    }
   ],
   "source": [
    "df.duplicated().sum()"
   ]
  },
  {
   "cell_type": "markdown",
   "metadata": {},
   "source": [
    "Совпадающие строки отсутствуют.\n",
    "\n",
    "Проведем еще проверку, исключив колонки __row_number__ и __customer_id__"
   ]
  },
  {
   "cell_type": "code",
   "execution_count": 14,
   "metadata": {},
   "outputs": [
    {
     "data": {
      "text/plain": [
       "0"
      ]
     },
     "execution_count": 14,
     "metadata": {},
     "output_type": "execute_result"
    }
   ],
   "source": [
    "df.drop(['row_number', 'customer_id'], axis=1).duplicated().sum()"
   ]
  },
  {
   "cell_type": "markdown",
   "metadata": {},
   "source": [
    "Дубликатов также не обнаружено.\n",
    "Однако при проверке по фамилиям клиентов:"
   ]
  },
  {
   "cell_type": "code",
   "execution_count": 15,
   "metadata": {},
   "outputs": [
    {
     "data": {
      "text/plain": [
       "7068"
      ]
     },
     "execution_count": 15,
     "metadata": {},
     "output_type": "execute_result"
    }
   ],
   "source": [
    "df['surname'].duplicated().sum()"
   ]
  },
  {
   "cell_type": "markdown",
   "metadata": {},
   "source": [
    "В банке обязательно будут однофамильцы и члены одной семьи, поэтому сделаем еще одну проверку с учетом пола и возраста:"
   ]
  },
  {
   "cell_type": "code",
   "execution_count": 16,
   "metadata": {},
   "outputs": [
    {
     "data": {
      "text/plain": [
       "596"
      ]
     },
     "execution_count": 16,
     "metadata": {},
     "output_type": "execute_result"
    }
   ],
   "source": [
    "df[['surname', 'gender', 'age']].duplicated().sum()"
   ]
  },
  {
   "cell_type": "markdown",
   "metadata": {},
   "source": [
    "Посмотрим на эти дубликаты внимательнее:"
   ]
  },
  {
   "cell_type": "code",
   "execution_count": 17,
   "metadata": {},
   "outputs": [
    {
     "data": {
      "text/html": [
       "<div>\n",
       "<style scoped>\n",
       "    .dataframe tbody tr th:only-of-type {\n",
       "        vertical-align: middle;\n",
       "    }\n",
       "\n",
       "    .dataframe tbody tr th {\n",
       "        vertical-align: top;\n",
       "    }\n",
       "\n",
       "    .dataframe thead th {\n",
       "        text-align: right;\n",
       "    }\n",
       "</style>\n",
       "<table border=\"1\" class=\"dataframe\">\n",
       "  <thead>\n",
       "    <tr style=\"text-align: right;\">\n",
       "      <th></th>\n",
       "      <th>row_number</th>\n",
       "      <th>customer_id</th>\n",
       "      <th>surname</th>\n",
       "      <th>credit_score</th>\n",
       "      <th>geography</th>\n",
       "      <th>gender</th>\n",
       "      <th>age</th>\n",
       "      <th>tenure</th>\n",
       "      <th>balance</th>\n",
       "      <th>num_of_products</th>\n",
       "      <th>has_cr_card</th>\n",
       "      <th>is_active_member</th>\n",
       "      <th>estimated_salary</th>\n",
       "      <th>exited</th>\n",
       "    </tr>\n",
       "  </thead>\n",
       "  <tbody>\n",
       "    <tr>\n",
       "      <th>3466</th>\n",
       "      <td>3467</td>\n",
       "      <td>15631339</td>\n",
       "      <td>Adams</td>\n",
       "      <td>791</td>\n",
       "      <td>France</td>\n",
       "      <td>Male</td>\n",
       "      <td>28</td>\n",
       "      <td>4.0</td>\n",
       "      <td>0.00</td>\n",
       "      <td>1</td>\n",
       "      <td>1</td>\n",
       "      <td>0</td>\n",
       "      <td>174435.48</td>\n",
       "      <td>0</td>\n",
       "    </tr>\n",
       "    <tr>\n",
       "      <th>8926</th>\n",
       "      <td>8927</td>\n",
       "      <td>15709136</td>\n",
       "      <td>Adams</td>\n",
       "      <td>620</td>\n",
       "      <td>France</td>\n",
       "      <td>Male</td>\n",
       "      <td>28</td>\n",
       "      <td>8.0</td>\n",
       "      <td>0.00</td>\n",
       "      <td>2</td>\n",
       "      <td>1</td>\n",
       "      <td>1</td>\n",
       "      <td>199909.32</td>\n",
       "      <td>0</td>\n",
       "    </tr>\n",
       "    <tr>\n",
       "      <th>8980</th>\n",
       "      <td>8981</td>\n",
       "      <td>15786433</td>\n",
       "      <td>Aitken</td>\n",
       "      <td>650</td>\n",
       "      <td>Germany</td>\n",
       "      <td>Female</td>\n",
       "      <td>35</td>\n",
       "      <td>3.0</td>\n",
       "      <td>165982.43</td>\n",
       "      <td>2</td>\n",
       "      <td>1</td>\n",
       "      <td>1</td>\n",
       "      <td>24482.16</td>\n",
       "      <td>0</td>\n",
       "    </tr>\n",
       "    <tr>\n",
       "      <th>8297</th>\n",
       "      <td>8298</td>\n",
       "      <td>15664681</td>\n",
       "      <td>Aitken</td>\n",
       "      <td>584</td>\n",
       "      <td>France</td>\n",
       "      <td>Female</td>\n",
       "      <td>35</td>\n",
       "      <td>2.0</td>\n",
       "      <td>114321.28</td>\n",
       "      <td>2</td>\n",
       "      <td>0</td>\n",
       "      <td>0</td>\n",
       "      <td>15959.01</td>\n",
       "      <td>0</td>\n",
       "    </tr>\n",
       "    <tr>\n",
       "      <th>8825</th>\n",
       "      <td>8826</td>\n",
       "      <td>15797081</td>\n",
       "      <td>Ajuluchukwu</td>\n",
       "      <td>611</td>\n",
       "      <td>Germany</td>\n",
       "      <td>Female</td>\n",
       "      <td>49</td>\n",
       "      <td>9.0</td>\n",
       "      <td>115488.52</td>\n",
       "      <td>2</td>\n",
       "      <td>1</td>\n",
       "      <td>1</td>\n",
       "      <td>138656.81</td>\n",
       "      <td>1</td>\n",
       "    </tr>\n",
       "    <tr>\n",
       "      <th>9783</th>\n",
       "      <td>9784</td>\n",
       "      <td>15680430</td>\n",
       "      <td>Ajuluchukwu</td>\n",
       "      <td>601</td>\n",
       "      <td>Germany</td>\n",
       "      <td>Female</td>\n",
       "      <td>49</td>\n",
       "      <td>4.0</td>\n",
       "      <td>96252.98</td>\n",
       "      <td>2</td>\n",
       "      <td>1</td>\n",
       "      <td>0</td>\n",
       "      <td>104263.82</td>\n",
       "      <td>0</td>\n",
       "    </tr>\n",
       "    <tr>\n",
       "      <th>5502</th>\n",
       "      <td>5503</td>\n",
       "      <td>15815690</td>\n",
       "      <td>Akabueze</td>\n",
       "      <td>614</td>\n",
       "      <td>Spain</td>\n",
       "      <td>Female</td>\n",
       "      <td>40</td>\n",
       "      <td>5.0</td>\n",
       "      <td>113348.50</td>\n",
       "      <td>1</td>\n",
       "      <td>1</td>\n",
       "      <td>1</td>\n",
       "      <td>77789.01</td>\n",
       "      <td>0</td>\n",
       "    </tr>\n",
       "    <tr>\n",
       "      <th>7398</th>\n",
       "      <td>7399</td>\n",
       "      <td>15577771</td>\n",
       "      <td>Akabueze</td>\n",
       "      <td>453</td>\n",
       "      <td>Germany</td>\n",
       "      <td>Female</td>\n",
       "      <td>40</td>\n",
       "      <td>5.0</td>\n",
       "      <td>111524.49</td>\n",
       "      <td>1</td>\n",
       "      <td>1</td>\n",
       "      <td>1</td>\n",
       "      <td>120373.84</td>\n",
       "      <td>1</td>\n",
       "    </tr>\n",
       "    <tr>\n",
       "      <th>1050</th>\n",
       "      <td>1051</td>\n",
       "      <td>15623828</td>\n",
       "      <td>Akobundu</td>\n",
       "      <td>682</td>\n",
       "      <td>France</td>\n",
       "      <td>Male</td>\n",
       "      <td>30</td>\n",
       "      <td>4.0</td>\n",
       "      <td>0.00</td>\n",
       "      <td>1</td>\n",
       "      <td>0</td>\n",
       "      <td>1</td>\n",
       "      <td>161465.31</td>\n",
       "      <td>0</td>\n",
       "    </tr>\n",
       "    <tr>\n",
       "      <th>9772</th>\n",
       "      <td>9773</td>\n",
       "      <td>15750549</td>\n",
       "      <td>Akobundu</td>\n",
       "      <td>660</td>\n",
       "      <td>Germany</td>\n",
       "      <td>Male</td>\n",
       "      <td>30</td>\n",
       "      <td>1.0</td>\n",
       "      <td>84440.10</td>\n",
       "      <td>2</td>\n",
       "      <td>1</td>\n",
       "      <td>1</td>\n",
       "      <td>60485.98</td>\n",
       "      <td>0</td>\n",
       "    </tr>\n",
       "    <tr>\n",
       "      <th>3843</th>\n",
       "      <td>3844</td>\n",
       "      <td>15677804</td>\n",
       "      <td>Aliyeva</td>\n",
       "      <td>783</td>\n",
       "      <td>Spain</td>\n",
       "      <td>Male</td>\n",
       "      <td>38</td>\n",
       "      <td>1.0</td>\n",
       "      <td>0.00</td>\n",
       "      <td>3</td>\n",
       "      <td>1</td>\n",
       "      <td>1</td>\n",
       "      <td>80178.54</td>\n",
       "      <td>1</td>\n",
       "    </tr>\n",
       "    <tr>\n",
       "      <th>1852</th>\n",
       "      <td>1853</td>\n",
       "      <td>15573741</td>\n",
       "      <td>Aliyeva</td>\n",
       "      <td>698</td>\n",
       "      <td>Spain</td>\n",
       "      <td>Male</td>\n",
       "      <td>38</td>\n",
       "      <td>10.0</td>\n",
       "      <td>95010.92</td>\n",
       "      <td>1</td>\n",
       "      <td>1</td>\n",
       "      <td>1</td>\n",
       "      <td>105227.86</td>\n",
       "      <td>0</td>\n",
       "    </tr>\n",
       "    <tr>\n",
       "      <th>6048</th>\n",
       "      <td>6049</td>\n",
       "      <td>15676433</td>\n",
       "      <td>Allan</td>\n",
       "      <td>707</td>\n",
       "      <td>France</td>\n",
       "      <td>Female</td>\n",
       "      <td>36</td>\n",
       "      <td>6.0</td>\n",
       "      <td>0.00</td>\n",
       "      <td>1</td>\n",
       "      <td>0</td>\n",
       "      <td>0</td>\n",
       "      <td>98810.78</td>\n",
       "      <td>0</td>\n",
       "    </tr>\n",
       "    <tr>\n",
       "      <th>3242</th>\n",
       "      <td>3243</td>\n",
       "      <td>15729908</td>\n",
       "      <td>Allan</td>\n",
       "      <td>411</td>\n",
       "      <td>France</td>\n",
       "      <td>Female</td>\n",
       "      <td>36</td>\n",
       "      <td>10.0</td>\n",
       "      <td>0.00</td>\n",
       "      <td>1</td>\n",
       "      <td>0</td>\n",
       "      <td>0</td>\n",
       "      <td>120694.35</td>\n",
       "      <td>0</td>\n",
       "    </tr>\n",
       "    <tr>\n",
       "      <th>8840</th>\n",
       "      <td>8841</td>\n",
       "      <td>15646969</td>\n",
       "      <td>Anayolisa</td>\n",
       "      <td>776</td>\n",
       "      <td>Spain</td>\n",
       "      <td>Male</td>\n",
       "      <td>33</td>\n",
       "      <td>2.0</td>\n",
       "      <td>0.00</td>\n",
       "      <td>2</td>\n",
       "      <td>1</td>\n",
       "      <td>1</td>\n",
       "      <td>176921.00</td>\n",
       "      <td>0</td>\n",
       "    </tr>\n",
       "    <tr>\n",
       "      <th>4538</th>\n",
       "      <td>4539</td>\n",
       "      <td>15676835</td>\n",
       "      <td>Anayolisa</td>\n",
       "      <td>710</td>\n",
       "      <td>Spain</td>\n",
       "      <td>Male</td>\n",
       "      <td>33</td>\n",
       "      <td>1.0</td>\n",
       "      <td>0.00</td>\n",
       "      <td>2</td>\n",
       "      <td>1</td>\n",
       "      <td>0</td>\n",
       "      <td>168313.17</td>\n",
       "      <td>0</td>\n",
       "    </tr>\n",
       "    <tr>\n",
       "      <th>753</th>\n",
       "      <td>754</td>\n",
       "      <td>15661526</td>\n",
       "      <td>Anderson</td>\n",
       "      <td>815</td>\n",
       "      <td>Germany</td>\n",
       "      <td>Male</td>\n",
       "      <td>37</td>\n",
       "      <td>2.0</td>\n",
       "      <td>110777.26</td>\n",
       "      <td>2</td>\n",
       "      <td>1</td>\n",
       "      <td>0</td>\n",
       "      <td>2383.59</td>\n",
       "      <td>0</td>\n",
       "    </tr>\n",
       "    <tr>\n",
       "      <th>1132</th>\n",
       "      <td>1133</td>\n",
       "      <td>15762110</td>\n",
       "      <td>Anderson</td>\n",
       "      <td>628</td>\n",
       "      <td>France</td>\n",
       "      <td>Male</td>\n",
       "      <td>37</td>\n",
       "      <td>5.0</td>\n",
       "      <td>0.00</td>\n",
       "      <td>2</td>\n",
       "      <td>1</td>\n",
       "      <td>1</td>\n",
       "      <td>171707.93</td>\n",
       "      <td>0</td>\n",
       "    </tr>\n",
       "    <tr>\n",
       "      <th>7509</th>\n",
       "      <td>7510</td>\n",
       "      <td>15657228</td>\n",
       "      <td>Anderson</td>\n",
       "      <td>545</td>\n",
       "      <td>Germany</td>\n",
       "      <td>Male</td>\n",
       "      <td>37</td>\n",
       "      <td>9.0</td>\n",
       "      <td>95829.13</td>\n",
       "      <td>2</td>\n",
       "      <td>0</td>\n",
       "      <td>1</td>\n",
       "      <td>104936.88</td>\n",
       "      <td>0</td>\n",
       "    </tr>\n",
       "    <tr>\n",
       "      <th>3188</th>\n",
       "      <td>3189</td>\n",
       "      <td>15586757</td>\n",
       "      <td>Anenechukwu</td>\n",
       "      <td>801</td>\n",
       "      <td>France</td>\n",
       "      <td>Female</td>\n",
       "      <td>32</td>\n",
       "      <td>4.0</td>\n",
       "      <td>75170.54</td>\n",
       "      <td>1</td>\n",
       "      <td>1</td>\n",
       "      <td>1</td>\n",
       "      <td>37898.50</td>\n",
       "      <td>0</td>\n",
       "    </tr>\n",
       "  </tbody>\n",
       "</table>\n",
       "</div>"
      ],
      "text/plain": [
       "      row_number  customer_id      surname  credit_score geography  gender  \\\n",
       "3466        3467     15631339        Adams           791    France    Male   \n",
       "8926        8927     15709136        Adams           620    France    Male   \n",
       "8980        8981     15786433       Aitken           650   Germany  Female   \n",
       "8297        8298     15664681       Aitken           584    France  Female   \n",
       "8825        8826     15797081  Ajuluchukwu           611   Germany  Female   \n",
       "9783        9784     15680430  Ajuluchukwu           601   Germany  Female   \n",
       "5502        5503     15815690     Akabueze           614     Spain  Female   \n",
       "7398        7399     15577771     Akabueze           453   Germany  Female   \n",
       "1050        1051     15623828     Akobundu           682    France    Male   \n",
       "9772        9773     15750549     Akobundu           660   Germany    Male   \n",
       "3843        3844     15677804      Aliyeva           783     Spain    Male   \n",
       "1852        1853     15573741      Aliyeva           698     Spain    Male   \n",
       "6048        6049     15676433        Allan           707    France  Female   \n",
       "3242        3243     15729908        Allan           411    France  Female   \n",
       "8840        8841     15646969    Anayolisa           776     Spain    Male   \n",
       "4538        4539     15676835    Anayolisa           710     Spain    Male   \n",
       "753          754     15661526     Anderson           815   Germany    Male   \n",
       "1132        1133     15762110     Anderson           628    France    Male   \n",
       "7509        7510     15657228     Anderson           545   Germany    Male   \n",
       "3188        3189     15586757  Anenechukwu           801    France  Female   \n",
       "\n",
       "      age  tenure    balance  num_of_products  has_cr_card  is_active_member  \\\n",
       "3466   28     4.0       0.00                1            1                 0   \n",
       "8926   28     8.0       0.00                2            1                 1   \n",
       "8980   35     3.0  165982.43                2            1                 1   \n",
       "8297   35     2.0  114321.28                2            0                 0   \n",
       "8825   49     9.0  115488.52                2            1                 1   \n",
       "9783   49     4.0   96252.98                2            1                 0   \n",
       "5502   40     5.0  113348.50                1            1                 1   \n",
       "7398   40     5.0  111524.49                1            1                 1   \n",
       "1050   30     4.0       0.00                1            0                 1   \n",
       "9772   30     1.0   84440.10                2            1                 1   \n",
       "3843   38     1.0       0.00                3            1                 1   \n",
       "1852   38    10.0   95010.92                1            1                 1   \n",
       "6048   36     6.0       0.00                1            0                 0   \n",
       "3242   36    10.0       0.00                1            0                 0   \n",
       "8840   33     2.0       0.00                2            1                 1   \n",
       "4538   33     1.0       0.00                2            1                 0   \n",
       "753    37     2.0  110777.26                2            1                 0   \n",
       "1132   37     5.0       0.00                2            1                 1   \n",
       "7509   37     9.0   95829.13                2            0                 1   \n",
       "3188   32     4.0   75170.54                1            1                 1   \n",
       "\n",
       "      estimated_salary  exited  \n",
       "3466         174435.48       0  \n",
       "8926         199909.32       0  \n",
       "8980          24482.16       0  \n",
       "8297          15959.01       0  \n",
       "8825         138656.81       1  \n",
       "9783         104263.82       0  \n",
       "5502          77789.01       0  \n",
       "7398         120373.84       1  \n",
       "1050         161465.31       0  \n",
       "9772          60485.98       0  \n",
       "3843          80178.54       1  \n",
       "1852         105227.86       0  \n",
       "6048          98810.78       0  \n",
       "3242         120694.35       0  \n",
       "8840         176921.00       0  \n",
       "4538         168313.17       0  \n",
       "753            2383.59       0  \n",
       "1132         171707.93       0  \n",
       "7509         104936.88       0  \n",
       "3188          37898.50       0  "
      ]
     },
     "execution_count": 17,
     "metadata": {},
     "output_type": "execute_result"
    }
   ],
   "source": [
    "doubles = df[['surname', 'gender', 'age']].duplicated(keep=False)\n",
    "df[doubles].sort_values('surname').head(20)"
   ]
  },
  {
   "cell_type": "markdown",
   "metadata": {},
   "source": [
    "В связи с отличающимися данными в других столбцах (кредитная история, срок взаимодействия с банком, баланс и т.д.) можно предположить, что представленные дубликаты - это однофамильцы, а не задвоившиеся данные и оставить их в датасете."
   ]
  },
  {
   "cell_type": "markdown",
   "metadata": {},
   "source": [
    "Завершим подготовку данных, удалив столбцы датасета, которые не потребуются нам для работы модели.\n",
    "Удалим __row_number, customer_id, surname__."
   ]
  },
  {
   "cell_type": "code",
   "execution_count": 18,
   "metadata": {},
   "outputs": [],
   "source": [
    "df = df.drop(['row_number', 'customer_id', 'surname'], axis=1)"
   ]
  },
  {
   "cell_type": "markdown",
   "metadata": {},
   "source": [
    "__Вывод:__ при предобработке данных были внесены следующие изменения в датасет:\n",
    "* преобразованы заголовки столбцов\n",
    "* обработаны пропуски\n",
    "* подтверждено отсутствие дубликатов\n",
    "* удалены ненужные для дальнейшего исследования столбцы"
   ]
  },
  {
   "cell_type": "markdown",
   "metadata": {},
   "source": [
    "## Исследование задачи"
   ]
  },
  {
   "cell_type": "markdown",
   "metadata": {},
   "source": [
    "### Баланс классов"
   ]
  },
  {
   "cell_type": "markdown",
   "metadata": {},
   "source": [
    "Исследуем баланс целевого признака:"
   ]
  },
  {
   "cell_type": "code",
   "execution_count": 19,
   "metadata": {},
   "outputs": [
    {
     "data": {
      "text/plain": [
       "0    0.7963\n",
       "1    0.2037\n",
       "Name: exited, dtype: float64"
      ]
     },
     "metadata": {},
     "output_type": "display_data"
    },
    {
     "data": {
      "image/png": "[encoded data removed]",
      "text/plain": [
       "<Figure size 432x288 with 1 Axes>"
      ]
     },
     "metadata": {
      "needs_background": "light"
     },
     "output_type": "display_data"
    }
   ],
   "source": [
    "class_frequency = df['exited'].value_counts(normalize=True)\n",
    "display(class_frequency)\n",
    "class_frequency.plot(kind='bar');"
   ]
  },
  {
   "cell_type": "markdown",
   "metadata": {},
   "source": [
    "В датасете почти 80% клиентов продолжают оставаться клиентами банка, т.е. наблюдается явный дисбаланс. Для начала посмотрим, как будут вести себя различные модели при несбалансированных классах."
   ]
  },
  {
   "cell_type": "markdown",
   "metadata": {},
   "source": [
    "### Разделение на выборки"
   ]
  },
  {
   "cell_type": "markdown",
   "metadata": {},
   "source": [
    "Для работы потребуется разбить данные на три выборки: тренировочную (60%), валидационную (20%) и тестовую (20%)."
   ]
  },
  {
   "cell_type": "code",
   "execution_count": 20,
   "metadata": {},
   "outputs": [],
   "source": [
    "df_train, df_valtest = train_test_split(df, test_size=0.4, random_state=12345)\n",
    "df_valid, df_test = train_test_split(df_valtest, test_size=0.5, random_state=12345)\n",
    "\n",
    "features_train = df_train.drop(['exited'], axis=1)\n",
    "target_train = df_train['exited']\n",
    "features_valid = df_valid.drop(['exited'], axis=1)\n",
    "target_valid = df_valid['exited']\n",
    "features_test = df_test.drop(['exited'], axis=1)\n",
    "target_test = df_test['exited']"
   ]
  },
  {
   "cell_type": "markdown",
   "metadata": {},
   "source": [
    "Убедимся, что выборки проведены корректно:"
   ]
  },
  {
   "cell_type": "code",
   "execution_count": 21,
   "metadata": {},
   "outputs": [
    {
     "data": {
      "text/plain": [
       "(6000, 10)"
      ]
     },
     "metadata": {},
     "output_type": "display_data"
    },
    {
     "data": {
      "text/plain": [
       "(2000, 10)"
      ]
     },
     "metadata": {},
     "output_type": "display_data"
    },
    {
     "data": {
      "text/plain": [
       "(2000, 10)"
      ]
     },
     "metadata": {},
     "output_type": "display_data"
    }
   ],
   "source": [
    "display(features_train.shape)\n",
    "display(features_valid.shape)\n",
    "display(features_test.shape)"
   ]
  },
  {
   "cell_type": "code",
   "execution_count": 22,
   "metadata": {},
   "outputs": [
    {
     "data": {
      "text/plain": [
       "(6000,)"
      ]
     },
     "metadata": {},
     "output_type": "display_data"
    },
    {
     "data": {
      "text/plain": [
       "(2000,)"
      ]
     },
     "metadata": {},
     "output_type": "display_data"
    },
    {
     "data": {
      "text/plain": [
       "(2000,)"
      ]
     },
     "metadata": {},
     "output_type": "display_data"
    }
   ],
   "source": [
    "display(target_train.shape)\n",
    "display(target_valid.shape)\n",
    "display(target_test.shape)"
   ]
  },
  {
   "cell_type": "markdown",
   "metadata": {},
   "source": [
    "### Кодировка"
   ]
  },
  {
   "cell_type": "markdown",
   "metadata": {},
   "source": [
    "Закодируем данные через прямое кодирование."
   ]
  },
  {
   "cell_type": "code",
   "execution_count": 23,
   "metadata": {},
   "outputs": [
    {
     "data": {
      "text/plain": [
       "(6000, 11)"
      ]
     },
     "metadata": {},
     "output_type": "display_data"
    },
    {
     "data": {
      "text/plain": [
       "(2000, 11)"
      ]
     },
     "metadata": {},
     "output_type": "display_data"
    },
    {
     "data": {
      "text/plain": [
       "(2000, 11)"
      ]
     },
     "metadata": {},
     "output_type": "display_data"
    }
   ],
   "source": [
    "features_train= pd.get_dummies(features_train, drop_first=True)\n",
    "features_valid = pd.get_dummies(features_valid, drop_first=True)\n",
    "features_test = pd.get_dummies(features_test, drop_first=True)\n",
    "\n",
    "display(features_train.shape)\n",
    "display(features_valid.shape)\n",
    "display(features_test.shape)"
   ]
  },
  {
   "cell_type": "markdown",
   "metadata": {},
   "source": [
    "Проверим, что во всех трех выборках произошли одинаковые изменения в столбцах __geography__ и __gender__"
   ]
  },
  {
   "cell_type": "code",
   "execution_count": 24,
   "metadata": {},
   "outputs": [
    {
     "data": {
      "text/html": [
       "<div>\n",
       "<style scoped>\n",
       "    .dataframe tbody tr th:only-of-type {\n",
       "        vertical-align: middle;\n",
       "    }\n",
       "\n",
       "    .dataframe tbody tr th {\n",
       "        vertical-align: top;\n",
       "    }\n",
       "\n",
       "    .dataframe thead th {\n",
       "        text-align: right;\n",
       "    }\n",
       "</style>\n",
       "<table border=\"1\" class=\"dataframe\">\n",
       "  <thead>\n",
       "    <tr style=\"text-align: right;\">\n",
       "      <th></th>\n",
       "      <th>credit_score</th>\n",
       "      <th>age</th>\n",
       "      <th>tenure</th>\n",
       "      <th>balance</th>\n",
       "      <th>num_of_products</th>\n",
       "      <th>has_cr_card</th>\n",
       "      <th>is_active_member</th>\n",
       "      <th>estimated_salary</th>\n",
       "      <th>geography_Germany</th>\n",
       "      <th>geography_Spain</th>\n",
       "      <th>gender_Male</th>\n",
       "    </tr>\n",
       "  </thead>\n",
       "  <tbody>\n",
       "    <tr>\n",
       "      <th>7479</th>\n",
       "      <td>567</td>\n",
       "      <td>35</td>\n",
       "      <td>8.0</td>\n",
       "      <td>153137.74</td>\n",
       "      <td>1</td>\n",
       "      <td>1</td>\n",
       "      <td>0</td>\n",
       "      <td>88659.07</td>\n",
       "      <td>0</td>\n",
       "      <td>1</td>\n",
       "      <td>1</td>\n",
       "    </tr>\n",
       "    <tr>\n",
       "      <th>3411</th>\n",
       "      <td>711</td>\n",
       "      <td>37</td>\n",
       "      <td>8.0</td>\n",
       "      <td>113899.92</td>\n",
       "      <td>1</td>\n",
       "      <td>0</td>\n",
       "      <td>0</td>\n",
       "      <td>80215.20</td>\n",
       "      <td>0</td>\n",
       "      <td>0</td>\n",
       "      <td>0</td>\n",
       "    </tr>\n",
       "    <tr>\n",
       "      <th>6027</th>\n",
       "      <td>850</td>\n",
       "      <td>44</td>\n",
       "      <td>3.0</td>\n",
       "      <td>140393.65</td>\n",
       "      <td>2</td>\n",
       "      <td>0</td>\n",
       "      <td>1</td>\n",
       "      <td>186285.52</td>\n",
       "      <td>1</td>\n",
       "      <td>0</td>\n",
       "      <td>1</td>\n",
       "    </tr>\n",
       "    <tr>\n",
       "      <th>1247</th>\n",
       "      <td>512</td>\n",
       "      <td>24</td>\n",
       "      <td>6.0</td>\n",
       "      <td>0.00</td>\n",
       "      <td>2</td>\n",
       "      <td>1</td>\n",
       "      <td>0</td>\n",
       "      <td>37654.31</td>\n",
       "      <td>0</td>\n",
       "      <td>0</td>\n",
       "      <td>1</td>\n",
       "    </tr>\n",
       "    <tr>\n",
       "      <th>3716</th>\n",
       "      <td>665</td>\n",
       "      <td>27</td>\n",
       "      <td>2.0</td>\n",
       "      <td>147435.96</td>\n",
       "      <td>1</td>\n",
       "      <td>0</td>\n",
       "      <td>0</td>\n",
       "      <td>187508.06</td>\n",
       "      <td>1</td>\n",
       "      <td>0</td>\n",
       "      <td>0</td>\n",
       "    </tr>\n",
       "  </tbody>\n",
       "</table>\n",
       "</div>"
      ],
      "text/plain": [
       "      credit_score  age  tenure    balance  num_of_products  has_cr_card  \\\n",
       "7479           567   35     8.0  153137.74                1            1   \n",
       "3411           711   37     8.0  113899.92                1            0   \n",
       "6027           850   44     3.0  140393.65                2            0   \n",
       "1247           512   24     6.0       0.00                2            1   \n",
       "3716           665   27     2.0  147435.96                1            0   \n",
       "\n",
       "      is_active_member  estimated_salary  geography_Germany  geography_Spain  \\\n",
       "7479                 0          88659.07                  0                1   \n",
       "3411                 0          80215.20                  0                0   \n",
       "6027                 1         186285.52                  1                0   \n",
       "1247                 0          37654.31                  0                0   \n",
       "3716                 0         187508.06                  1                0   \n",
       "\n",
       "      gender_Male  \n",
       "7479            1  \n",
       "3411            0  \n",
       "6027            1  \n",
       "1247            1  \n",
       "3716            0  "
      ]
     },
     "execution_count": 24,
     "metadata": {},
     "output_type": "execute_result"
    }
   ],
   "source": [
    "features_train.head()"
   ]
  },
  {
   "cell_type": "code",
   "execution_count": 25,
   "metadata": {},
   "outputs": [
    {
     "data": {
      "text/html": [
       "<div>\n",
       "<style scoped>\n",
       "    .dataframe tbody tr th:only-of-type {\n",
       "        vertical-align: middle;\n",
       "    }\n",
       "\n",
       "    .dataframe tbody tr th {\n",
       "        vertical-align: top;\n",
       "    }\n",
       "\n",
       "    .dataframe thead th {\n",
       "        text-align: right;\n",
       "    }\n",
       "</style>\n",
       "<table border=\"1\" class=\"dataframe\">\n",
       "  <thead>\n",
       "    <tr style=\"text-align: right;\">\n",
       "      <th></th>\n",
       "      <th>credit_score</th>\n",
       "      <th>age</th>\n",
       "      <th>tenure</th>\n",
       "      <th>balance</th>\n",
       "      <th>num_of_products</th>\n",
       "      <th>has_cr_card</th>\n",
       "      <th>is_active_member</th>\n",
       "      <th>estimated_salary</th>\n",
       "      <th>geography_Germany</th>\n",
       "      <th>geography_Spain</th>\n",
       "      <th>gender_Male</th>\n",
       "    </tr>\n",
       "  </thead>\n",
       "  <tbody>\n",
       "    <tr>\n",
       "      <th>8532</th>\n",
       "      <td>585</td>\n",
       "      <td>35</td>\n",
       "      <td>2.0</td>\n",
       "      <td>0.00</td>\n",
       "      <td>2</td>\n",
       "      <td>1</td>\n",
       "      <td>0</td>\n",
       "      <td>98621.04</td>\n",
       "      <td>0</td>\n",
       "      <td>0</td>\n",
       "      <td>0</td>\n",
       "    </tr>\n",
       "    <tr>\n",
       "      <th>5799</th>\n",
       "      <td>625</td>\n",
       "      <td>45</td>\n",
       "      <td>3.0</td>\n",
       "      <td>0.00</td>\n",
       "      <td>1</td>\n",
       "      <td>1</td>\n",
       "      <td>1</td>\n",
       "      <td>184474.15</td>\n",
       "      <td>0</td>\n",
       "      <td>0</td>\n",
       "      <td>0</td>\n",
       "    </tr>\n",
       "    <tr>\n",
       "      <th>5511</th>\n",
       "      <td>667</td>\n",
       "      <td>32</td>\n",
       "      <td>0.0</td>\n",
       "      <td>103846.65</td>\n",
       "      <td>1</td>\n",
       "      <td>1</td>\n",
       "      <td>0</td>\n",
       "      <td>20560.69</td>\n",
       "      <td>1</td>\n",
       "      <td>0</td>\n",
       "      <td>1</td>\n",
       "    </tr>\n",
       "    <tr>\n",
       "      <th>7365</th>\n",
       "      <td>568</td>\n",
       "      <td>36</td>\n",
       "      <td>10.0</td>\n",
       "      <td>153610.61</td>\n",
       "      <td>1</td>\n",
       "      <td>1</td>\n",
       "      <td>1</td>\n",
       "      <td>54083.80</td>\n",
       "      <td>0</td>\n",
       "      <td>1</td>\n",
       "      <td>0</td>\n",
       "    </tr>\n",
       "    <tr>\n",
       "      <th>7367</th>\n",
       "      <td>606</td>\n",
       "      <td>42</td>\n",
       "      <td>10.0</td>\n",
       "      <td>0.00</td>\n",
       "      <td>2</td>\n",
       "      <td>1</td>\n",
       "      <td>0</td>\n",
       "      <td>177938.52</td>\n",
       "      <td>0</td>\n",
       "      <td>1</td>\n",
       "      <td>1</td>\n",
       "    </tr>\n",
       "  </tbody>\n",
       "</table>\n",
       "</div>"
      ],
      "text/plain": [
       "      credit_score  age  tenure    balance  num_of_products  has_cr_card  \\\n",
       "8532           585   35     2.0       0.00                2            1   \n",
       "5799           625   45     3.0       0.00                1            1   \n",
       "5511           667   32     0.0  103846.65                1            1   \n",
       "7365           568   36    10.0  153610.61                1            1   \n",
       "7367           606   42    10.0       0.00                2            1   \n",
       "\n",
       "      is_active_member  estimated_salary  geography_Germany  geography_Spain  \\\n",
       "8532                 0          98621.04                  0                0   \n",
       "5799                 1         184474.15                  0                0   \n",
       "5511                 0          20560.69                  1                0   \n",
       "7365                 1          54083.80                  0                1   \n",
       "7367                 0         177938.52                  0                1   \n",
       "\n",
       "      gender_Male  \n",
       "8532            0  \n",
       "5799            0  \n",
       "5511            1  \n",
       "7365            0  \n",
       "7367            1  "
      ]
     },
     "execution_count": 25,
     "metadata": {},
     "output_type": "execute_result"
    }
   ],
   "source": [
    "features_valid.head()"
   ]
  },
  {
   "cell_type": "code",
   "execution_count": 26,
   "metadata": {},
   "outputs": [
    {
     "data": {
      "text/html": [
       "<div>\n",
       "<style scoped>\n",
       "    .dataframe tbody tr th:only-of-type {\n",
       "        vertical-align: middle;\n",
       "    }\n",
       "\n",
       "    .dataframe tbody tr th {\n",
       "        vertical-align: top;\n",
       "    }\n",
       "\n",
       "    .dataframe thead th {\n",
       "        text-align: right;\n",
       "    }\n",
       "</style>\n",
       "<table border=\"1\" class=\"dataframe\">\n",
       "  <thead>\n",
       "    <tr style=\"text-align: right;\">\n",
       "      <th></th>\n",
       "      <th>credit_score</th>\n",
       "      <th>age</th>\n",
       "      <th>tenure</th>\n",
       "      <th>balance</th>\n",
       "      <th>num_of_products</th>\n",
       "      <th>has_cr_card</th>\n",
       "      <th>is_active_member</th>\n",
       "      <th>estimated_salary</th>\n",
       "      <th>geography_Germany</th>\n",
       "      <th>geography_Spain</th>\n",
       "      <th>gender_Male</th>\n",
       "    </tr>\n",
       "  </thead>\n",
       "  <tbody>\n",
       "    <tr>\n",
       "      <th>7041</th>\n",
       "      <td>438</td>\n",
       "      <td>38</td>\n",
       "      <td>2.0</td>\n",
       "      <td>0.00</td>\n",
       "      <td>2</td>\n",
       "      <td>1</td>\n",
       "      <td>0</td>\n",
       "      <td>136859.55</td>\n",
       "      <td>0</td>\n",
       "      <td>0</td>\n",
       "      <td>1</td>\n",
       "    </tr>\n",
       "    <tr>\n",
       "      <th>5709</th>\n",
       "      <td>644</td>\n",
       "      <td>39</td>\n",
       "      <td>9.0</td>\n",
       "      <td>0.00</td>\n",
       "      <td>1</td>\n",
       "      <td>1</td>\n",
       "      <td>0</td>\n",
       "      <td>3740.93</td>\n",
       "      <td>0</td>\n",
       "      <td>0</td>\n",
       "      <td>0</td>\n",
       "    </tr>\n",
       "    <tr>\n",
       "      <th>7117</th>\n",
       "      <td>564</td>\n",
       "      <td>31</td>\n",
       "      <td>5.0</td>\n",
       "      <td>121461.87</td>\n",
       "      <td>1</td>\n",
       "      <td>1</td>\n",
       "      <td>1</td>\n",
       "      <td>20432.09</td>\n",
       "      <td>0</td>\n",
       "      <td>1</td>\n",
       "      <td>1</td>\n",
       "    </tr>\n",
       "    <tr>\n",
       "      <th>7775</th>\n",
       "      <td>628</td>\n",
       "      <td>40</td>\n",
       "      <td>10.0</td>\n",
       "      <td>0.00</td>\n",
       "      <td>2</td>\n",
       "      <td>1</td>\n",
       "      <td>0</td>\n",
       "      <td>103832.58</td>\n",
       "      <td>0</td>\n",
       "      <td>1</td>\n",
       "      <td>1</td>\n",
       "    </tr>\n",
       "    <tr>\n",
       "      <th>8735</th>\n",
       "      <td>728</td>\n",
       "      <td>30</td>\n",
       "      <td>10.0</td>\n",
       "      <td>114835.43</td>\n",
       "      <td>1</td>\n",
       "      <td>0</td>\n",
       "      <td>1</td>\n",
       "      <td>37662.49</td>\n",
       "      <td>0</td>\n",
       "      <td>0</td>\n",
       "      <td>1</td>\n",
       "    </tr>\n",
       "  </tbody>\n",
       "</table>\n",
       "</div>"
      ],
      "text/plain": [
       "      credit_score  age  tenure    balance  num_of_products  has_cr_card  \\\n",
       "7041           438   38     2.0       0.00                2            1   \n",
       "5709           644   39     9.0       0.00                1            1   \n",
       "7117           564   31     5.0  121461.87                1            1   \n",
       "7775           628   40    10.0       0.00                2            1   \n",
       "8735           728   30    10.0  114835.43                1            0   \n",
       "\n",
       "      is_active_member  estimated_salary  geography_Germany  geography_Spain  \\\n",
       "7041                 0         136859.55                  0                0   \n",
       "5709                 0           3740.93                  0                0   \n",
       "7117                 1          20432.09                  0                1   \n",
       "7775                 0         103832.58                  0                1   \n",
       "8735                 1          37662.49                  0                0   \n",
       "\n",
       "      gender_Male  \n",
       "7041            1  \n",
       "5709            0  \n",
       "7117            1  \n",
       "7775            1  \n",
       "8735            1  "
      ]
     },
     "execution_count": 26,
     "metadata": {},
     "output_type": "execute_result"
    }
   ],
   "source": [
    "features_test.head()"
   ]
  },
  {
   "cell_type": "markdown",
   "metadata": {},
   "source": [
    "### Модели с дисбалансом классов"
   ]
  },
  {
   "cell_type": "markdown",
   "metadata": {},
   "source": [
    "Проведем исследования на трех моделях:\n",
    "* логистическая регрессия\n",
    "* решающее дерево\n",
    "* случайный лес\n"
   ]
  },
  {
   "cell_type": "markdown",
   "metadata": {},
   "source": [
    "#### Логистическая регрессия"
   ]
  },
  {
   "cell_type": "code",
   "execution_count": 27,
   "metadata": {},
   "outputs": [
    {
     "name": "stdout",
     "output_type": "stream",
     "text": [
      "Accuracy of disballanced logistic regression model: 0.7815\n",
      "F1 of disballanced logistic regression model: 0.08385744234800838\n",
      "CPU times: user 45.9 ms, sys: 17 ms, total: 62.9 ms\n",
      "Wall time: 33.1 ms\n"
     ]
    }
   ],
   "source": [
    "%%time\n",
    "\n",
    "model_lr = LogisticRegression(solver='liblinear', random_state=12345)\n",
    "model_lr.fit(features_train, target_train)\n",
    "predicted_valid_lr = model_lr.predict(features_valid)\n",
    "accuracy_lr = model_lr.score(features_valid, target_valid)\n",
    "f1_lr = f1_score(target_valid, predicted_valid_lr)\n",
    "print ('Accuracy of disballanced logistic regression model:', accuracy_lr)\n",
    "print('F1 of disballanced logistic regression model:', f1_lr)"
   ]
  },
  {
   "cell_type": "markdown",
   "metadata": {},
   "source": [
    "#### Решающее дерево"
   ]
  },
  {
   "cell_type": "markdown",
   "metadata": {},
   "source": [
    "Сначала определим лучшую глубину дерева для наших данных"
   ]
  },
  {
   "cell_type": "code",
   "execution_count": 28,
   "metadata": {},
   "outputs": [
    {
     "name": "stdout",
     "output_type": "stream",
     "text": [
      "Accuracy of best model: 0.858\n",
      "Depth of best model: 6\n",
      "CPU times: user 462 ms, sys: 35.4 ms, total: 497 ms\n",
      "Wall time: 562 ms\n"
     ]
    }
   ],
   "source": [
    "%%time\n",
    "best_result = 0\n",
    "best_depth = 0\n",
    "best_f1 = 0\n",
    "for depth in range(1, 21):\n",
    "    model = DecisionTreeClassifier(random_state=12345, max_depth=depth)\n",
    "    model.fit(features_train, target_train)\n",
    "    result = model.score(features_valid, target_valid)\n",
    "    if result > best_result:\n",
    "        best_depth = depth\n",
    "        best_result = result\n",
    "\n",
    "print('Accuracy of best model:', best_result)\n",
    "print('Depth of best model:', best_depth)"
   ]
  },
  {
   "cell_type": "markdown",
   "metadata": {},
   "source": [
    "После этого обучим модель и посмотрим значение F1-меры на несбалансированных данных:"
   ]
  },
  {
   "cell_type": "code",
   "execution_count": 29,
   "metadata": {},
   "outputs": [
    {
     "name": "stdout",
     "output_type": "stream",
     "text": [
      "Accuracy of disballanced decision tree model: 0.858\n",
      "F1 of disballanced decision tree model: 0.5696969696969697\n",
      "CPU times: user 21.1 ms, sys: 3.53 ms, total: 24.6 ms\n",
      "Wall time: 28.6 ms\n"
     ]
    }
   ],
   "source": [
    "%%time\n",
    "\n",
    "model_dt =  DecisionTreeClassifier(random_state = 12345, max_depth = 6)\n",
    "\n",
    "model_dt.fit(features_train, target_train)\n",
    "predicted_valid_tree = model_dt.predict(features_valid)\n",
    "accuracy_dt = model_dt.score(features_valid, target_valid)\n",
    "f1_dt = f1_score(target_valid, predicted_valid_tree)\n",
    "\n",
    "print ('Accuracy of disballanced decision tree model:', accuracy_dt)\n",
    "print('F1 of disballanced decision tree model:', f1_dt)"
   ]
  },
  {
   "cell_type": "markdown",
   "metadata": {},
   "source": [
    "#### Случайный лес"
   ]
  },
  {
   "cell_type": "markdown",
   "metadata": {},
   "source": [
    "Определим количество деревьев и лучшую глубину дерева для наших данных:"
   ]
  },
  {
   "cell_type": "code",
   "execution_count": 30,
   "metadata": {},
   "outputs": [
    {
     "name": "stdout",
     "output_type": "stream",
     "text": [
      "Accuracy of best model: 0.865\n",
      "EST of best model: 60\n",
      "Depth of best model: 8\n",
      "CPU times: user 28.6 s, sys: 234 ms, total: 28.8 s\n",
      "Wall time: 28.9 s\n"
     ]
    }
   ],
   "source": [
    "%%time\n",
    "\n",
    "best_result = 0\n",
    "best_est = 0\n",
    "best_depth = 0\n",
    "for est in range(20, 120, 10):\n",
    "    for depth in range(1,12):\n",
    "        model = RandomForestClassifier(random_state=12345, n_estimators=est, max_depth=depth)\n",
    "        model.fit(features_train, target_train)\n",
    "        result = model.score(features_valid, target_valid)\n",
    "        if result > best_result:\n",
    "            best_est = est\n",
    "            best_model = model\n",
    "            best_result = result\n",
    "            best_depth = depth\n",
    "print('Accuracy of best model:', best_result)\n",
    "print('EST of best model:', best_est)\n",
    "print('Depth of best model:', best_depth)"
   ]
  },
  {
   "cell_type": "markdown",
   "metadata": {},
   "source": [
    "После этого обучим модель и посмотрим значение F1-меры на несбалансированных данных:"
   ]
  },
  {
   "cell_type": "code",
   "execution_count": 31,
   "metadata": {},
   "outputs": [
    {
     "name": "stdout",
     "output_type": "stream",
     "text": [
      "Accuracy of disballanced random forest model: 0.865\n",
      "F1 of disballanced random forest model: 0.5700636942675159\n",
      "CPU times: user 360 ms, sys: 3.99 ms, total: 364 ms\n",
      "Wall time: 369 ms\n"
     ]
    }
   ],
   "source": [
    "%%time\n",
    "\n",
    "model_rf = RandomForestClassifier(random_state=12345, n_estimators=60, max_depth=8)\n",
    "\n",
    "model_rf.fit(features_train,target_train)\n",
    "predicted_valid_tree = model_rf.predict(features_valid)\n",
    "accuracy_rf = model_rf.score(features_valid, target_valid)\n",
    "f1_rf = f1_score(target_valid, predicted_valid_tree)\n",
    "\n",
    "print ('Accuracy of disballanced random forest model:', accuracy_rf)\n",
    "print('F1 of disballanced random forest model:', f1_rf)"
   ]
  },
  {
   "cell_type": "markdown",
   "metadata": {},
   "source": [
    "#### Проверка адекватности"
   ]
  },
  {
   "cell_type": "markdown",
   "metadata": {},
   "source": [
    "Для проверки модели на адекватность сравним полученные результаты выбранной модели с константной моделью, прогнозирующей любому объекту класс \"0\""
   ]
  },
  {
   "cell_type": "code",
   "execution_count": 32,
   "metadata": {},
   "outputs": [
    {
     "name": "stdout",
     "output_type": "stream",
     "text": [
      "Accuracy of constant model: 0.791\n",
      "F1 of constant model: 0.0\n"
     ]
    }
   ],
   "source": [
    "target_pred_constant = pd.Series(0, index=range(target_valid.shape[0]))\n",
    "accuracy_const = accuracy_score(target_valid, target_pred_constant)\n",
    "f1_const = f1_score(target_valid, target_pred_constant)\n",
    "print ('Accuracy of constant model:', accuracy_const)\n",
    "print('F1 of constant model:', f1_const)"
   ]
  },
  {
   "cell_type": "markdown",
   "metadata": {},
   "source": [
    "#### Итоги исследования моделей с дисбалансом классов"
   ]
  },
  {
   "cell_type": "code",
   "execution_count": 33,
   "metadata": {},
   "outputs": [
    {
     "data": {
      "text/html": [
       "<style  type=\"text/css\" >\n",
       "#T_9ee14_row2_col1,#T_9ee14_row2_col2{\n",
       "            background-color:  yellowgreen;\n",
       "        }</style><table id=\"T_9ee14_\" ><thead>    <tr>        <th class=\"blank level0\" ></th>        <th class=\"col_heading level0 col0\" >model</th>        <th class=\"col_heading level0 col1\" >accuracy</th>        <th class=\"col_heading level0 col2\" >f1_score</th>    </tr></thead><tbody>\n",
       "                <tr>\n",
       "                        <th id=\"T_9ee14_level0_row0\" class=\"row_heading level0 row0\" >0</th>\n",
       "                        <td id=\"T_9ee14_row0_col0\" class=\"data row0 col0\" >log_regression</td>\n",
       "                        <td id=\"T_9ee14_row0_col1\" class=\"data row0 col1\" >0.781500</td>\n",
       "                        <td id=\"T_9ee14_row0_col2\" class=\"data row0 col2\" >0.083857</td>\n",
       "            </tr>\n",
       "            <tr>\n",
       "                        <th id=\"T_9ee14_level0_row1\" class=\"row_heading level0 row1\" >1</th>\n",
       "                        <td id=\"T_9ee14_row1_col0\" class=\"data row1 col0\" >decision_tree</td>\n",
       "                        <td id=\"T_9ee14_row1_col1\" class=\"data row1 col1\" >0.858000</td>\n",
       "                        <td id=\"T_9ee14_row1_col2\" class=\"data row1 col2\" >0.569697</td>\n",
       "            </tr>\n",
       "            <tr>\n",
       "                        <th id=\"T_9ee14_level0_row2\" class=\"row_heading level0 row2\" >2</th>\n",
       "                        <td id=\"T_9ee14_row2_col0\" class=\"data row2 col0\" >random_forest</td>\n",
       "                        <td id=\"T_9ee14_row2_col1\" class=\"data row2 col1\" >0.865000</td>\n",
       "                        <td id=\"T_9ee14_row2_col2\" class=\"data row2 col2\" >0.570064</td>\n",
       "            </tr>\n",
       "            <tr>\n",
       "                        <th id=\"T_9ee14_level0_row3\" class=\"row_heading level0 row3\" >3</th>\n",
       "                        <td id=\"T_9ee14_row3_col0\" class=\"data row3 col0\" >constant</td>\n",
       "                        <td id=\"T_9ee14_row3_col1\" class=\"data row3 col1\" >0.791000</td>\n",
       "                        <td id=\"T_9ee14_row3_col2\" class=\"data row3 col2\" >0.000000</td>\n",
       "            </tr>\n",
       "    </tbody></table>"
      ],
      "text/plain": [
       "<pandas.io.formats.style.Styler at 0x7f3024c00af0>"
      ]
     },
     "execution_count": 33,
     "metadata": {},
     "output_type": "execute_result"
    }
   ],
   "source": [
    "models_dis = pd.DataFrame({'model': \n",
    "                           ['log_regression', 'decision_tree', 'random_forest', 'constant'],\n",
    "                           'accuracy': [accuracy_lr, accuracy_dt, accuracy_rf, accuracy_const],\n",
    "                           'f1_score': [f1_lr,f1_dt,f1_rf,f1_const]\n",
    "                          })\n",
    "models_dis.style.highlight_max(color='yellowgreen')"
   ]
  },
  {
   "cell_type": "markdown",
   "metadata": {},
   "source": [
    "Лучшей моделью стала модель случайного леса.\n",
    "Поэтому с ней и будем работать в дальнейшем."
   ]
  },
  {
   "cell_type": "markdown",
   "metadata": {},
   "source": [
    "Прежде чем приступить к балансировке классов посмотрим на кривую ошибок и показатель площади под ROC-кривой:"
   ]
  },
  {
   "cell_type": "code",
   "execution_count": 34,
   "metadata": {},
   "outputs": [
    {
     "data": {
      "image/png": "[encoded data removed]",
      "text/plain": [
       "<Figure size 576x432 with 1 Axes>"
      ]
     },
     "metadata": {
      "needs_background": "light"
     },
     "output_type": "display_data"
    },
    {
     "name": "stdout",
     "output_type": "stream",
     "text": [
      "Area Under Curve ROC: 0.8509003804765332\n"
     ]
    }
   ],
   "source": [
    "probabilities_valid = model_rf.predict_proba(features_valid)\n",
    "probabilities_one_valid = probabilities_valid[:, 1]\n",
    "auc_roc = roc_auc_score(target_valid, probabilities_one_valid)\n",
    "\n",
    "\n",
    "fpr, tpr, thresholds = roc_curve(target_valid, probabilities_one_valid)\n",
    "plt.figure(figsize=(8, 6))\n",
    "plt.plot(fpr, tpr)\n",
    "plt.plot([0, 1], [0, 1], linestyle='--')\n",
    "plt.xlim([0.0,1.0])\n",
    "plt.ylim([0.0,1.0])\n",
    "plt.xlabel('False Positive Rate')\n",
    "plt.ylabel('True Positive Rate')\n",
    "plt.title('ROC curve')\n",
    "plt.show()\n",
    "\n",
    "\n",
    "print('Area Under Curve ROC:', auc_roc)"
   ]
  },
  {
   "cell_type": "markdown",
   "metadata": {},
   "source": [
    "Показатель площади под ROC-кривой больше 0,5, значит модель сможет с большей вероятностью выделять истинно положительные и истинно отрицательные значения."
   ]
  },
  {
   "cell_type": "markdown",
   "metadata": {},
   "source": [
    "### Борьба с дисбалансом"
   ]
  },
  {
   "cell_type": "markdown",
   "metadata": {},
   "source": [
    "Попробуем проверить, как изменятся результаты при увеличении и уменьшении выборки методами __upscale__ и __downscale__."
   ]
  },
  {
   "cell_type": "markdown",
   "metadata": {},
   "source": [
    "#### Upscaling"
   ]
  },
  {
   "cell_type": "markdown",
   "metadata": {},
   "source": [
    "Увеличим выборку с заданным количеством повторений \"5\"."
   ]
  },
  {
   "cell_type": "code",
   "execution_count": 35,
   "metadata": {},
   "outputs": [],
   "source": [
    "<div class=\"alert alert-success\">\n",
    "<h2>V2 Комментарий ревьюера <a class=\"tocSkip\"> </h2>\n",
    "\n",
    "<b>Все отлично!👍:</b> \n",
    "\n",
    "Спасибо за корректировку!def upsample(features, target, repeat):\n",
    "    features_zeros = features[target == 0]\n",
    "    features_ones = features[target == 1]\n",
    "    target_zeros = target[target == 0]\n",
    "    target_ones = target[target == 1]\n",
    "\n",
    "    features_upsampled = pd.concat([features_zeros] + [features_ones] * repeat)\n",
    "    target_upsampled = pd.concat([target_zeros] + [target_ones] * repeat)\n",
    "    \n",
    "    features_upsampled, target_upsampled = shuffle(\n",
    "        features_upsampled, target_upsampled, random_state=12345)\n",
    "    \n",
    "    return features_upsampled, target_upsampled\n",
    "\n",
    "features_upsampled, target_upsampled = upsample(features_train, target_train, 5)"
   ]
  },
  {
   "cell_type": "code",
   "execution_count": 36,
   "metadata": {},
   "outputs": [
    {
     "name": "stdout",
     "output_type": "stream",
     "text": [
      "Accuracy of best model: 0.821\n",
      "EST of best model: 70\n",
      "Depth of best model: 11\n",
      "CPU times: user 40.8 s, sys: 199 ms, total: 41 s\n",
      "Wall time: 41 s\n"
     ]
    }
   ],
   "source": [
    "%%time\n",
    "\n",
    "best_result = 0\n",
    "best_est = 0\n",
    "best_depth = 0\n",
    "for est in range(20, 120, 10):\n",
    "    for depth in range(1,12):\n",
    "        model = RandomForestClassifier(random_state=12345, n_estimators=est, max_depth=depth)\n",
    "        model.fit(features_upsampled,target_upsampled)\n",
    "        result = model.score(features_valid, target_valid)\n",
    "        if result > best_result:\n",
    "            best_est = est\n",
    "            best_model = model\n",
    "            best_result = result\n",
    "            best_depth = depth\n",
    "print('Accuracy of best model:', best_result)\n",
    "print('EST of best model:', best_est)\n",
    "print('Depth of best model:', best_depth)"
   ]
  },
  {
   "cell_type": "code",
   "execution_count": 37,
   "metadata": {},
   "outputs": [
    {
     "name": "stdout",
     "output_type": "stream",
     "text": [
      "Accuracy of upscaled random forest model: 0.821\n",
      "F1 of upscaled random forest model: 0.6057268722466961\n",
      "CPU times: user 611 ms, sys: 0 ns, total: 611 ms\n",
      "Wall time: 620 ms\n"
     ]
    }
   ],
   "source": [
    "%%time\n",
    "\n",
    "model_rf_u = RandomForestClassifier(random_state=12345, n_estimators=70, max_depth=11)\n",
    "\n",
    "model_rf_u.fit(features_upsampled,target_upsampled)\n",
    "predicted_valid_tree = model_rf_u.predict(features_valid)\n",
    "accuracy_rf_up = model_rf_u.score(features_valid, target_valid)\n",
    "f1_rf_up = f1_score(target_valid, predicted_valid_tree)\n",
    "\n",
    "print ('Accuracy of upscaled random forest model:', accuracy_rf_up)\n",
    "print('F1 of upscaled random forest model:', f1_rf_up)"
   ]
  },
  {
   "cell_type": "markdown",
   "metadata": {},
   "source": [
    "#### Downscaling"
   ]
  },
  {
   "cell_type": "markdown",
   "metadata": {},
   "source": [
    "Уменьшим выборку с долей отрицательных объектов, которые нужно сохранить, \"0.5\"."
   ]
  },
  {
   "cell_type": "code",
   "execution_count": 38,
   "metadata": {},
   "outputs": [],
   "source": [
    "def downsample(features, target, fraction):\n",
    "    features_zeros = features[target == 0]\n",
    "    features_ones = features[target == 1]\n",
    "    target_zeros = target[target == 0]\n",
    "    target_ones = target[target == 1]\n",
    "\n",
    "    features_downsampled = pd.concat(\n",
    "        [features_zeros.sample(frac=fraction, random_state=12345)] + [features_ones])\n",
    "    target_downsampled = pd.concat(\n",
    "        [target_zeros.sample(frac=fraction, random_state=12345)] + [target_ones])\n",
    "    \n",
    "    features_downsampled, target_downsampled = shuffle(\n",
    "        features_downsampled, target_downsampled, random_state=12345)\n",
    "    \n",
    "    return features_downsampled, target_downsampled\n",
    "\n",
    "features_downsampled, target_downsampled = downsample(features_train, target_train, 0.5)"
   ]
  },
  {
   "cell_type": "code",
   "execution_count": 39,
   "metadata": {},
   "outputs": [
    {
     "name": "stdout",
     "output_type": "stream",
     "text": [
      "Accuracy of best model: 0.8605\n",
      "EST of best model: 80\n",
      "Depth of best model: 9\n",
      "CPU times: user 20.8 s, sys: 120 ms, total: 21 s\n",
      "Wall time: 21 s\n"
     ]
    }
   ],
   "source": [
    "%%time\n",
    "\n",
    "best_result = 0\n",
    "best_est = 0\n",
    "best_depth = 0\n",
    "for est in range(20, 120, 10):\n",
    "    for depth in range(1,12):\n",
    "        model = RandomForestClassifier(random_state=12345, n_estimators=est, max_depth=depth)\n",
    "        model.fit(features_downsampled,target_downsampled)\n",
    "        result = model.score(features_valid, target_valid)\n",
    "        if result > best_result:\n",
    "            best_est = est\n",
    "            best_model = model\n",
    "            best_result = result\n",
    "            best_depth = depth\n",
    "print('Accuracy of best model:', best_result)\n",
    "print('EST of best model:', best_est)\n",
    "print('Depth of best model:', best_depth)"
   ]
  },
  {
   "cell_type": "code",
   "execution_count": 40,
   "metadata": {},
   "outputs": [
    {
     "name": "stdout",
     "output_type": "stream",
     "text": [
      "Accuracy of downscaled random forest model: 0.8605\n",
      "F1 of downscaled random forest model: 0.6454891994917408\n",
      "CPU times: user 329 ms, sys: 0 ns, total: 329 ms\n",
      "Wall time: 335 ms\n"
     ]
    }
   ],
   "source": [
    "%%time\n",
    "\n",
    "model_rf_d = RandomForestClassifier(random_state=12345, n_estimators=80, max_depth=9)\n",
    "\n",
    "model_rf_d.fit(features_downsampled,target_downsampled)\n",
    "predicted_valid_tree = model_rf_d.predict(features_valid)\n",
    "accuracy_rf_down = model_rf_d.score(features_valid, target_valid)\n",
    "f1_rf_down = f1_score(target_valid, predicted_valid_tree)\n",
    "\n",
    "print ('Accuracy of downscaled random forest model:', accuracy_rf_down)\n",
    "print('F1 of downscaled random forest model:', f1_rf_down)"
   ]
  },
  {
   "cell_type": "markdown",
   "metadata": {},
   "source": [
    "#### Итоги балансировки"
   ]
  },
  {
   "cell_type": "code",
   "execution_count": 41,
   "metadata": {},
   "outputs": [
    {
     "data": {
      "text/html": [
       "<style  type=\"text/css\" >\n",
       "#T_1eca7_row1_col2,#T_1eca7_row2_col1{\n",
       "            background-color:  yellowgreen;\n",
       "        }</style><table id=\"T_1eca7_\" ><thead>    <tr>        <th class=\"blank level0\" ></th>        <th class=\"col_heading level0 col0\" >random_forest</th>        <th class=\"col_heading level0 col1\" >accuracy</th>        <th class=\"col_heading level0 col2\" >f1_score</th>    </tr></thead><tbody>\n",
       "                <tr>\n",
       "                        <th id=\"T_1eca7_level0_row0\" class=\"row_heading level0 row0\" >0</th>\n",
       "                        <td id=\"T_1eca7_row0_col0\" class=\"data row0 col0\" >upscaled</td>\n",
       "                        <td id=\"T_1eca7_row0_col1\" class=\"data row0 col1\" >0.821000</td>\n",
       "                        <td id=\"T_1eca7_row0_col2\" class=\"data row0 col2\" >0.605727</td>\n",
       "            </tr>\n",
       "            <tr>\n",
       "                        <th id=\"T_1eca7_level0_row1\" class=\"row_heading level0 row1\" >1</th>\n",
       "                        <td id=\"T_1eca7_row1_col0\" class=\"data row1 col0\" >downscaled</td>\n",
       "                        <td id=\"T_1eca7_row1_col1\" class=\"data row1 col1\" >0.860500</td>\n",
       "                        <td id=\"T_1eca7_row1_col2\" class=\"data row1 col2\" >0.645489</td>\n",
       "            </tr>\n",
       "            <tr>\n",
       "                        <th id=\"T_1eca7_level0_row2\" class=\"row_heading level0 row2\" >2</th>\n",
       "                        <td id=\"T_1eca7_row2_col0\" class=\"data row2 col0\" >unballanced</td>\n",
       "                        <td id=\"T_1eca7_row2_col1\" class=\"data row2 col1\" >0.865000</td>\n",
       "                        <td id=\"T_1eca7_row2_col2\" class=\"data row2 col2\" >0.570064</td>\n",
       "            </tr>\n",
       "    </tbody></table>"
      ],
      "text/plain": [
       "<pandas.io.formats.style.Styler at 0x7f3024bea220>"
      ]
     },
     "execution_count": 41,
     "metadata": {},
     "output_type": "execute_result"
    }
   ],
   "source": [
    "models_bal = pd.DataFrame({'random_forest': \n",
    "                           ['upscaled', 'downscaled', 'unballanced'],\n",
    "                           'accuracy': [accuracy_rf_up, accuracy_rf_down, accuracy_rf],\n",
    "                           'f1_score': [f1_rf_up,f1_rf_down,f1_rf]\n",
    "                          })\n",
    "models_bal.style.highlight_max(color='yellowgreen')"
   ]
  },
  {
   "cell_type": "markdown",
   "metadata": {},
   "source": [
    "Из таблицы видно, что лучшие результаты __f1-score__ получаюся при уменьшении выборки: небольшое сснижение параметра __accuracy__ при довольно значительном росте параметра __F1-score__.\n",
    "\n",
    "Проверим как изменился __показатель площади под ROC-кривой___"
   ]
  },
  {
   "cell_type": "code",
   "execution_count": 42,
   "metadata": {},
   "outputs": [
    {
     "data": {
      "image/png": "[encoded data removed]",
      "text/plain": [
       "<Figure size 576x432 with 1 Axes>"
      ]
     },
     "metadata": {
      "needs_background": "light"
     },
     "output_type": "display_data"
    },
    {
     "name": "stdout",
     "output_type": "stream",
     "text": [
      "Area Under Curve ROC: 0.8520693326235943\n"
     ]
    }
   ],
   "source": [
    "probabilities_valid = model_rf_d.predict_proba(features_valid)\n",
    "probabilities_one_valid = probabilities_valid[:, 1]\n",
    "auc_roc = roc_auc_score(target_valid, probabilities_one_valid)\n",
    "\n",
    "\n",
    "fpr, tpr, thresholds = roc_curve(target_valid, probabilities_one_valid)\n",
    "plt.figure(figsize=(8, 6))\n",
    "plt.plot(fpr, tpr)\n",
    "plt.plot([0, 1], [0, 1], linestyle='--')\n",
    "plt.xlim([0.0,1.0])\n",
    "plt.ylim([0.0,1.0])\n",
    "plt.xlabel('False Positive Rate')\n",
    "plt.ylabel('True Positive Rate')\n",
    "plt.title('ROC curve')\n",
    "plt.show()\n",
    "\n",
    "\n",
    "print('Area Under Curve ROC:', auc_roc)"
   ]
  },
  {
   "cell_type": "markdown",
   "metadata": {},
   "source": [
    "Показатель вырос, но незначительно (на две тысячных)."
   ]
  },
  {
   "cell_type": "markdown",
   "metadata": {},
   "source": [
    "__Вывод:__ для проверки на тестовых данных будем использовать модель случайного леса с количеством деревьев 80 и глубиной 9 с данными, сбалансироваными методом __downscale__ с долей отрицательных объектов, которые нужно сохранить, \"0.5\""
   ]
  },
  {
   "cell_type": "markdown",
   "metadata": {},
   "source": [
    "## Тестирование модели"
   ]
  },
  {
   "cell_type": "markdown",
   "metadata": {},
   "source": [
    "Проведем финальную проверку выбранной модели на заранее выделенных тестовых данных"
   ]
  },
  {
   "cell_type": "code",
   "execution_count": 43,
   "metadata": {},
   "outputs": [
    {
     "name": "stdout",
     "output_type": "stream",
     "text": [
      "Accuracy on test data: 0.846\n",
      "F1 on test data: 0.6020671834625323\n"
     ]
    }
   ],
   "source": [
    "model_rf_d = RandomForestClassifier(random_state=12345, n_estimators=100, max_depth=8)\n",
    "\n",
    "model_rf_d.fit(features_downsampled,target_downsampled)\n",
    "predicted_test = model_rf_d.predict(features_test)\n",
    "accuracy_test = model_rf_d.score(features_test, target_test)\n",
    "f1_test = f1_score(target_test, predicted_test)\n",
    "\n",
    "print ('Accuracy on test data:', accuracy_test)\n",
    "print('F1 on test data:', f1_test)"
   ]
  },
  {
   "cell_type": "markdown",
   "metadata": {},
   "source": [
    "Показатели __accuracy__ и __F1-мера__ уменьшились, но в допустимых пределах.\n",
    "Показатель __F1-мера__ на тестовых данных составил 0.60, что немного превышает целевую задачу исследования."
   ]
  },
  {
   "cell_type": "code",
   "execution_count": 44,
   "metadata": {},
   "outputs": [
    {
     "data": {
      "image/png": "[encoded data removed]",
      "text/plain": [
       "<Figure size 576x432 with 1 Axes>"
      ]
     },
     "metadata": {
      "needs_background": "light"
     },
     "output_type": "display_data"
    },
    {
     "name": "stdout",
     "output_type": "stream",
     "text": [
      "Area Under Curve ROC: 0.8531670541816387\n"
     ]
    }
   ],
   "source": [
    "probabilities_test = model_rf_d.predict_proba(features_test)\n",
    "probabilities_one_test = probabilities_test[:, 1]\n",
    "auc_roc = roc_auc_score(target_test, probabilities_one_test)\n",
    "\n",
    "\n",
    "fpr, tpr, thresholds = roc_curve(target_test, probabilities_one_test)\n",
    "plt.figure(figsize=(8, 6))\n",
    "plt.plot(fpr, tpr)\n",
    "plt.plot([0, 1], [0, 1], linestyle='--')\n",
    "plt.xlim([0.0,1.0])\n",
    "plt.ylim([0.0,1.0])\n",
    "plt.xlabel('False Positive Rate')\n",
    "plt.ylabel('True Positive Rate')\n",
    "plt.title('ROC curve')\n",
    "plt.show()\n",
    "\n",
    "\n",
    "print('Area Under Curve ROC:', auc_roc)"
   ]
  },
  {
   "cell_type": "markdown",
   "metadata": {},
   "source": [
    "Показатель __AUC-ROC__ на тестовых данных также фактически остался прежним (увеличение на 1 тысячную)."
   ]
  },
  {
   "cell_type": "markdown",
   "metadata": {},
   "source": [
    "## Общие итоги"
   ]
  },
  {
   "cell_type": "markdown",
   "metadata": {},
   "source": [
    "В рамках исследования поведения клиентов банка были получены данные о клиентах.\n",
    "\n",
    "Была проведена предобработка данных: они были приведены к стандартному формату, проверены на пропуски, дубликаты. Также были удалены те данные, которые не потребуются для обучения модели.\n",
    "\n",
    "Было исследовано поведение трех моделей на несбалансированных данных (логистическая регрессия, решающее дерево и случайный лес) и выделена лучшая модель с лучшими гиперпараметрами (случайный лес):"
   ]
  },
  {
   "cell_type": "code",
   "execution_count": 45,
   "metadata": {},
   "outputs": [
    {
     "data": {
      "text/html": [
       "<style  type=\"text/css\" >\n",
       "#T_8b588_row2_col1,#T_8b588_row2_col2{\n",
       "            background-color:  yellowgreen;\n",
       "        }</style><table id=\"T_8b588_\" ><thead>    <tr>        <th class=\"blank level0\" ></th>        <th class=\"col_heading level0 col0\" >model</th>        <th class=\"col_heading level0 col1\" >accuracy</th>        <th class=\"col_heading level0 col2\" >f1_score</th>    </tr></thead><tbody>\n",
       "                <tr>\n",
       "                        <th id=\"T_8b588_level0_row0\" class=\"row_heading level0 row0\" >0</th>\n",
       "                        <td id=\"T_8b588_row0_col0\" class=\"data row0 col0\" >log_regression</td>\n",
       "                        <td id=\"T_8b588_row0_col1\" class=\"data row0 col1\" >0.781500</td>\n",
       "                        <td id=\"T_8b588_row0_col2\" class=\"data row0 col2\" >0.083857</td>\n",
       "            </tr>\n",
       "            <tr>\n",
       "                        <th id=\"T_8b588_level0_row1\" class=\"row_heading level0 row1\" >1</th>\n",
       "                        <td id=\"T_8b588_row1_col0\" class=\"data row1 col0\" >decision_tree</td>\n",
       "                        <td id=\"T_8b588_row1_col1\" class=\"data row1 col1\" >0.858000</td>\n",
       "                        <td id=\"T_8b588_row1_col2\" class=\"data row1 col2\" >0.569697</td>\n",
       "            </tr>\n",
       "            <tr>\n",
       "                        <th id=\"T_8b588_level0_row2\" class=\"row_heading level0 row2\" >2</th>\n",
       "                        <td id=\"T_8b588_row2_col0\" class=\"data row2 col0\" >random_forest</td>\n",
       "                        <td id=\"T_8b588_row2_col1\" class=\"data row2 col1\" >0.865000</td>\n",
       "                        <td id=\"T_8b588_row2_col2\" class=\"data row2 col2\" >0.570064</td>\n",
       "            </tr>\n",
       "            <tr>\n",
       "                        <th id=\"T_8b588_level0_row3\" class=\"row_heading level0 row3\" >3</th>\n",
       "                        <td id=\"T_8b588_row3_col0\" class=\"data row3 col0\" >constant</td>\n",
       "                        <td id=\"T_8b588_row3_col1\" class=\"data row3 col1\" >0.791000</td>\n",
       "                        <td id=\"T_8b588_row3_col2\" class=\"data row3 col2\" >0.000000</td>\n",
       "            </tr>\n",
       "    </tbody></table>"
      ],
      "text/plain": [
       "<pandas.io.formats.style.Styler at 0x7f3024c00820>"
      ]
     },
     "execution_count": 45,
     "metadata": {},
     "output_type": "execute_result"
    }
   ],
   "source": [
    "models_dis.style.highlight_max(color='yellowgreen')"
   ]
  },
  {
   "cell_type": "markdown",
   "metadata": {},
   "source": [
    "Затем был проведена балансировка классов в двух вариантах - за счет увеличения и уменьшения выборки - и определено, какой из вариантов лучше подходит для обучения модели (уменьшение выборки):"
   ]
  },
  {
   "cell_type": "code",
   "execution_count": 46,
   "metadata": {},
   "outputs": [
    {
     "data": {
      "text/html": [
       "<style  type=\"text/css\" >\n",
       "#T_035ab_row1_col2,#T_035ab_row2_col1{\n",
       "            background-color:  yellowgreen;\n",
       "        }</style><table id=\"T_035ab_\" ><thead>    <tr>        <th class=\"blank level0\" ></th>        <th class=\"col_heading level0 col0\" >random_forest</th>        <th class=\"col_heading level0 col1\" >accuracy</th>        <th class=\"col_heading level0 col2\" >f1_score</th>    </tr></thead><tbody>\n",
       "                <tr>\n",
       "                        <th id=\"T_035ab_level0_row0\" class=\"row_heading level0 row0\" >0</th>\n",
       "                        <td id=\"T_035ab_row0_col0\" class=\"data row0 col0\" >upscaled</td>\n",
       "                        <td id=\"T_035ab_row0_col1\" class=\"data row0 col1\" >0.821000</td>\n",
       "                        <td id=\"T_035ab_row0_col2\" class=\"data row0 col2\" >0.605727</td>\n",
       "            </tr>\n",
       "            <tr>\n",
       "                        <th id=\"T_035ab_level0_row1\" class=\"row_heading level0 row1\" >1</th>\n",
       "                        <td id=\"T_035ab_row1_col0\" class=\"data row1 col0\" >downscaled</td>\n",
       "                        <td id=\"T_035ab_row1_col1\" class=\"data row1 col1\" >0.860500</td>\n",
       "                        <td id=\"T_035ab_row1_col2\" class=\"data row1 col2\" >0.645489</td>\n",
       "            </tr>\n",
       "            <tr>\n",
       "                        <th id=\"T_035ab_level0_row2\" class=\"row_heading level0 row2\" >2</th>\n",
       "                        <td id=\"T_035ab_row2_col0\" class=\"data row2 col0\" >unballanced</td>\n",
       "                        <td id=\"T_035ab_row2_col1\" class=\"data row2 col1\" >0.865000</td>\n",
       "                        <td id=\"T_035ab_row2_col2\" class=\"data row2 col2\" >0.570064</td>\n",
       "            </tr>\n",
       "    </tbody></table>"
      ],
      "text/plain": [
       "<pandas.io.formats.style.Styler at 0x7f3024c007c0>"
      ]
     },
     "execution_count": 46,
     "metadata": {},
     "output_type": "execute_result"
    }
   ],
   "source": [
    "models_bal.style.highlight_max(color='yellowgreen')"
   ]
  },
  {
   "cell_type": "markdown",
   "metadata": {},
   "source": [
    "В данном случае балансировка классов не привела к улучшению результатов. Лучший результат __F1-меры__ достигнут на несбалансированной модели случайного леса: 0.57\n",
    "\n",
    "Проверка работы модели на тестовой выборке показала, что на тестовых данных показатель __F1-меры__ равняется 0.60"
   ]
  }
 ],
 "metadata": {
  "ExecuteTimeLog": [
   {
    "duration": 406,
    "start_time": "2023-02-18T18:25:14.073Z"
   },
   {
    "duration": 78,
    "start_time": "2023-02-18T18:25:57.733Z"
   },
   {
    "duration": 22,
    "start_time": "2023-02-18T18:26:15.664Z"
   },
   {
    "duration": 13,
    "start_time": "2023-02-18T18:26:23.316Z"
   },
   {
    "duration": 14,
    "start_time": "2023-02-18T18:26:31.161Z"
   },
   {
    "duration": 7,
    "start_time": "2023-02-18T18:31:05.139Z"
   },
   {
    "duration": 23,
    "start_time": "2023-02-19T09:02:29.256Z"
   },
   {
    "duration": 1425,
    "start_time": "2023-02-19T09:03:10.130Z"
   },
   {
    "duration": 1211,
    "start_time": "2023-02-19T09:05:03.448Z"
   },
   {
    "duration": 1382,
    "start_time": "2023-02-19T09:05:10.428Z"
   },
   {
    "duration": 1932,
    "start_time": "2023-02-19T09:06:02.953Z"
   },
   {
    "duration": 35,
    "start_time": "2023-02-19T09:11:12.013Z"
   },
   {
    "duration": 22,
    "start_time": "2023-02-19T09:11:15.828Z"
   },
   {
    "duration": 6,
    "start_time": "2023-02-19T09:33:16.267Z"
   },
   {
    "duration": 18,
    "start_time": "2023-02-19T09:33:25.654Z"
   },
   {
    "duration": 5,
    "start_time": "2023-02-19T09:37:17.174Z"
   },
   {
    "duration": 5,
    "start_time": "2023-02-19T09:37:53.778Z"
   },
   {
    "duration": 107,
    "start_time": "2023-02-19T09:38:40.492Z"
   },
   {
    "duration": 11,
    "start_time": "2023-02-19T09:38:49.066Z"
   },
   {
    "duration": 64,
    "start_time": "2023-02-19T09:39:15.326Z"
   },
   {
    "duration": 7,
    "start_time": "2023-02-19T09:44:31.507Z"
   },
   {
    "duration": 4,
    "start_time": "2023-02-19T09:44:50.521Z"
   },
   {
    "duration": 13,
    "start_time": "2023-02-19T09:45:03.373Z"
   },
   {
    "duration": 8,
    "start_time": "2023-02-19T09:48:00.293Z"
   },
   {
    "duration": 14,
    "start_time": "2023-02-19T09:48:14.964Z"
   },
   {
    "duration": 425,
    "start_time": "2023-02-19T09:48:24.169Z"
   },
   {
    "duration": 42,
    "start_time": "2023-02-19T09:48:24.597Z"
   },
   {
    "duration": 39,
    "start_time": "2023-02-19T09:48:24.641Z"
   },
   {
    "duration": 26,
    "start_time": "2023-02-19T09:48:24.685Z"
   },
   {
    "duration": 2474,
    "start_time": "2023-02-19T09:48:24.714Z"
   },
   {
    "duration": 4,
    "start_time": "2023-02-19T09:48:27.196Z"
   },
   {
    "duration": 12,
    "start_time": "2023-02-19T09:48:27.202Z"
   },
   {
    "duration": 9,
    "start_time": "2023-02-19T09:48:27.217Z"
   },
   {
    "duration": 38,
    "start_time": "2023-02-19T09:48:27.228Z"
   },
   {
    "duration": 80,
    "start_time": "2023-02-19T09:48:27.276Z"
   },
   {
    "duration": 7,
    "start_time": "2023-02-19T09:48:27.358Z"
   },
   {
    "duration": 44,
    "start_time": "2023-02-19T09:48:27.367Z"
   },
   {
    "duration": 17,
    "start_time": "2023-02-19T09:49:08.399Z"
   },
   {
    "duration": 5,
    "start_time": "2023-02-19T09:50:28.809Z"
   },
   {
    "duration": 42,
    "start_time": "2023-02-19T09:52:13.087Z"
   },
   {
    "duration": 9,
    "start_time": "2023-02-19T09:52:31.853Z"
   },
   {
    "duration": 25,
    "start_time": "2023-02-19T09:52:44.025Z"
   },
   {
    "duration": 219,
    "start_time": "2023-02-19T09:53:14.825Z"
   },
   {
    "duration": 6,
    "start_time": "2023-02-19T09:53:19.452Z"
   },
   {
    "duration": 3315,
    "start_time": "2023-02-19T09:53:52.293Z"
   },
   {
    "duration": 27,
    "start_time": "2023-02-19T09:54:21.863Z"
   },
   {
    "duration": 47,
    "start_time": "2023-02-19T09:58:41.158Z"
   },
   {
    "duration": 39,
    "start_time": "2023-02-19T09:58:48.966Z"
   },
   {
    "duration": 106,
    "start_time": "2023-02-19T10:03:32.191Z"
   },
   {
    "duration": 4,
    "start_time": "2023-02-19T10:03:37.106Z"
   },
   {
    "duration": 13,
    "start_time": "2023-02-19T10:17:26.497Z"
   },
   {
    "duration": 133,
    "start_time": "2023-02-19T10:17:31.396Z"
   },
   {
    "duration": 6,
    "start_time": "2023-02-19T10:18:04.395Z"
   },
   {
    "duration": 121,
    "start_time": "2023-02-19T10:18:18.991Z"
   },
   {
    "duration": 138,
    "start_time": "2023-02-19T10:18:29.166Z"
   },
   {
    "duration": 3,
    "start_time": "2023-02-19T10:18:38.271Z"
   },
   {
    "duration": 9,
    "start_time": "2023-02-19T10:31:43.398Z"
   },
   {
    "duration": 22,
    "start_time": "2023-02-19T10:31:56.990Z"
   },
   {
    "duration": 23,
    "start_time": "2023-02-19T10:34:34.383Z"
   },
   {
    "duration": 982,
    "start_time": "2023-02-19T10:35:42.894Z"
   },
   {
    "duration": 68,
    "start_time": "2023-02-19T10:35:54.682Z"
   },
   {
    "duration": 29,
    "start_time": "2023-02-19T10:36:12.260Z"
   },
   {
    "duration": 11,
    "start_time": "2023-02-19T10:38:52.010Z"
   },
   {
    "duration": 139,
    "start_time": "2023-02-19T10:40:07.928Z"
   },
   {
    "duration": 149,
    "start_time": "2023-02-19T10:41:03.625Z"
   },
   {
    "duration": 60,
    "start_time": "2023-02-19T10:42:00.382Z"
   },
   {
    "duration": 121,
    "start_time": "2023-02-19T10:46:00.691Z"
   },
   {
    "duration": 48,
    "start_time": "2023-02-19T10:49:53.197Z"
   },
   {
    "duration": 41,
    "start_time": "2023-02-19T10:53:10.355Z"
   },
   {
    "duration": 60,
    "start_time": "2023-02-19T10:53:25.927Z"
   },
   {
    "duration": 42,
    "start_time": "2023-02-19T10:54:52.076Z"
   },
   {
    "duration": 11,
    "start_time": "2023-02-19T10:54:55.777Z"
   },
   {
    "duration": 58,
    "start_time": "2023-02-19T10:55:38.712Z"
   },
   {
    "duration": 16,
    "start_time": "2023-02-19T10:55:58.359Z"
   },
   {
    "duration": 11,
    "start_time": "2023-02-19T10:56:11.503Z"
   },
   {
    "duration": 37,
    "start_time": "2023-02-19T10:56:51.425Z"
   },
   {
    "duration": 55,
    "start_time": "2023-02-19T11:01:30.989Z"
   },
   {
    "duration": 439,
    "start_time": "2023-02-19T11:04:01.256Z"
   },
   {
    "duration": 421,
    "start_time": "2023-02-19T11:04:45.260Z"
   },
   {
    "duration": 28,
    "start_time": "2023-02-19T11:07:32.491Z"
   },
   {
    "duration": 22,
    "start_time": "2023-02-19T11:07:44.291Z"
   },
   {
    "duration": 19,
    "start_time": "2023-02-19T11:08:16.588Z"
   },
   {
    "duration": 124,
    "start_time": "2023-02-19T11:09:32.539Z"
   },
   {
    "duration": 29893,
    "start_time": "2023-02-19T11:11:02.018Z"
   },
   {
    "duration": 633,
    "start_time": "2023-02-19T11:13:36.007Z"
   },
   {
    "duration": 7,
    "start_time": "2023-02-19T11:18:25.521Z"
   },
   {
    "duration": 10,
    "start_time": "2023-02-19T11:24:00.057Z"
   },
   {
    "duration": 11,
    "start_time": "2023-02-19T11:24:07.920Z"
   },
   {
    "duration": 11,
    "start_time": "2023-02-19T11:24:13.734Z"
   },
   {
    "duration": 10,
    "start_time": "2023-02-19T11:24:22.051Z"
   },
   {
    "duration": 15,
    "start_time": "2023-02-19T11:25:55.866Z"
   },
   {
    "duration": 51,
    "start_time": "2023-02-19T11:26:48.019Z"
   },
   {
    "duration": 73,
    "start_time": "2023-02-19T11:28:34.920Z"
   },
   {
    "duration": 13,
    "start_time": "2023-02-19T11:28:38.217Z"
   },
   {
    "duration": 4,
    "start_time": "2023-02-19T11:28:56.732Z"
   },
   {
    "duration": 49,
    "start_time": "2023-02-19T11:35:31.096Z"
   },
   {
    "duration": 121,
    "start_time": "2023-02-19T11:36:05.765Z"
   },
   {
    "duration": 120,
    "start_time": "2023-02-19T11:36:31.415Z"
   },
   {
    "duration": 49,
    "start_time": "2023-02-19T11:37:13.448Z"
   },
   {
    "duration": 129,
    "start_time": "2023-02-19T11:42:25.915Z"
   },
   {
    "duration": 21,
    "start_time": "2023-02-19T11:43:20.080Z"
   },
   {
    "duration": 87,
    "start_time": "2023-02-19T11:43:57.765Z"
   },
   {
    "duration": 649,
    "start_time": "2023-02-19T11:44:04.695Z"
   },
   {
    "duration": 12,
    "start_time": "2023-02-19T11:44:25.593Z"
   },
   {
    "duration": 129,
    "start_time": "2023-02-19T11:45:11.048Z"
   },
   {
    "duration": 15,
    "start_time": "2023-02-19T11:45:19.465Z"
   },
   {
    "duration": 164,
    "start_time": "2023-02-19T11:45:32.127Z"
   },
   {
    "duration": 163,
    "start_time": "2023-02-19T11:46:01.411Z"
   },
   {
    "duration": 12,
    "start_time": "2023-02-19T11:59:02.745Z"
   },
   {
    "duration": 1351,
    "start_time": "2023-02-19T12:01:13.279Z"
   },
   {
    "duration": 57672,
    "start_time": "2023-02-19T12:02:44.496Z"
   },
   {
    "duration": 632,
    "start_time": "2023-02-19T12:04:05.409Z"
   },
   {
    "duration": 12,
    "start_time": "2023-02-19T12:05:38.142Z"
   },
   {
    "duration": 46213,
    "start_time": "2023-02-19T12:05:39.576Z"
   },
   {
    "duration": 851,
    "start_time": "2023-02-19T12:06:46.460Z"
   },
   {
    "duration": 9,
    "start_time": "2023-02-19T12:08:03.624Z"
   },
   {
    "duration": 15604,
    "start_time": "2023-02-19T12:08:36.009Z"
   },
   {
    "duration": 224,
    "start_time": "2023-02-19T12:09:36.906Z"
   },
   {
    "duration": 148,
    "start_time": "2023-02-19T12:09:45.540Z"
   },
   {
    "duration": 14,
    "start_time": "2023-02-19T12:10:06.710Z"
   },
   {
    "duration": 23389,
    "start_time": "2023-02-19T12:10:07.627Z"
   },
   {
    "duration": 444,
    "start_time": "2023-02-19T12:12:05.950Z"
   },
   {
    "duration": 16,
    "start_time": "2023-02-19T12:25:12.910Z"
   },
   {
    "duration": 11,
    "start_time": "2023-02-19T12:25:29.521Z"
   },
   {
    "duration": 827,
    "start_time": "2023-02-19T12:26:36.527Z"
   },
   {
    "duration": 11,
    "start_time": "2023-02-19T12:26:48.695Z"
   },
   {
    "duration": 459,
    "start_time": "2023-02-19T12:30:14.161Z"
   },
   {
    "duration": 885,
    "start_time": "2023-02-19T12:30:31.323Z"
   },
   {
    "duration": 14,
    "start_time": "2023-02-19T12:30:38.306Z"
   },
   {
    "duration": 157,
    "start_time": "2023-02-19T12:30:50.151Z"
   },
   {
    "duration": 418,
    "start_time": "2023-02-19T12:38:14.311Z"
   },
   {
    "duration": 419,
    "start_time": "2023-02-19T12:38:24.851Z"
   },
   {
    "duration": 51,
    "start_time": "2023-02-19T12:39:53.111Z"
   },
   {
    "duration": 199,
    "start_time": "2023-02-19T12:40:13.607Z"
   },
   {
    "duration": 11,
    "start_time": "2023-02-19T12:50:14.890Z"
   },
   {
    "duration": 14,
    "start_time": "2023-02-19T12:51:34.542Z"
   },
   {
    "duration": 1169,
    "start_time": "2023-02-19T12:53:21.906Z"
   },
   {
    "duration": 38,
    "start_time": "2023-02-19T12:53:23.077Z"
   },
   {
    "duration": 35,
    "start_time": "2023-02-19T12:53:23.117Z"
   },
   {
    "duration": 14,
    "start_time": "2023-02-19T12:53:23.154Z"
   },
   {
    "duration": 2307,
    "start_time": "2023-02-19T12:53:23.170Z"
   },
   {
    "duration": 4,
    "start_time": "2023-02-19T12:53:25.479Z"
   },
   {
    "duration": 8,
    "start_time": "2023-02-19T12:53:25.484Z"
   },
   {
    "duration": 5,
    "start_time": "2023-02-19T12:53:25.494Z"
   },
   {
    "duration": 8,
    "start_time": "2023-02-19T12:53:25.501Z"
   },
   {
    "duration": 75,
    "start_time": "2023-02-19T12:53:25.513Z"
   },
   {
    "duration": 4,
    "start_time": "2023-02-19T12:53:25.589Z"
   },
   {
    "duration": 13,
    "start_time": "2023-02-19T12:53:25.594Z"
   },
   {
    "duration": 37,
    "start_time": "2023-02-19T12:53:25.609Z"
   },
   {
    "duration": 14,
    "start_time": "2023-02-19T12:53:25.648Z"
   },
   {
    "duration": 5,
    "start_time": "2023-02-19T12:53:25.664Z"
   },
   {
    "duration": 11,
    "start_time": "2023-02-19T12:53:25.671Z"
   },
   {
    "duration": 26,
    "start_time": "2023-02-19T12:53:25.683Z"
   },
   {
    "duration": 4,
    "start_time": "2023-02-19T12:53:25.711Z"
   },
   {
    "duration": 119,
    "start_time": "2023-02-19T12:53:25.737Z"
   },
   {
    "duration": 21,
    "start_time": "2023-02-19T12:53:25.857Z"
   },
   {
    "duration": 11,
    "start_time": "2023-02-19T12:53:25.879Z"
   },
   {
    "duration": 64,
    "start_time": "2023-02-19T12:53:25.891Z"
   },
   {
    "duration": 210,
    "start_time": "2023-02-19T12:53:25.959Z"
   },
   {
    "duration": 11,
    "start_time": "2023-02-19T12:53:26.170Z"
   },
   {
    "duration": 26,
    "start_time": "2023-02-19T12:53:26.183Z"
   },
   {
    "duration": 469,
    "start_time": "2023-02-19T12:53:26.210Z"
   },
   {
    "duration": 20,
    "start_time": "2023-02-19T12:53:26.681Z"
   },
   {
    "duration": 30250,
    "start_time": "2023-02-19T12:53:26.704Z"
   },
   {
    "duration": 715,
    "start_time": "2023-02-19T12:53:56.955Z"
   },
   {
    "duration": 8,
    "start_time": "2023-02-19T12:53:57.672Z"
   },
   {
    "duration": 12,
    "start_time": "2023-02-19T12:53:57.682Z"
   },
   {
    "duration": 188,
    "start_time": "2023-02-19T12:53:57.696Z"
   },
   {
    "duration": 0,
    "start_time": "2023-02-19T12:53:57.886Z"
   },
   {
    "duration": 0,
    "start_time": "2023-02-19T12:53:57.888Z"
   },
   {
    "duration": 0,
    "start_time": "2023-02-19T12:53:57.888Z"
   },
   {
    "duration": 0,
    "start_time": "2023-02-19T12:53:57.890Z"
   },
   {
    "duration": 1,
    "start_time": "2023-02-19T12:53:57.890Z"
   },
   {
    "duration": 0,
    "start_time": "2023-02-19T12:53:57.892Z"
   },
   {
    "duration": 0,
    "start_time": "2023-02-19T12:53:57.893Z"
   },
   {
    "duration": 0,
    "start_time": "2023-02-19T12:53:57.894Z"
   },
   {
    "duration": 0,
    "start_time": "2023-02-19T12:53:57.895Z"
   },
   {
    "duration": 0,
    "start_time": "2023-02-19T12:53:57.896Z"
   },
   {
    "duration": 0,
    "start_time": "2023-02-19T12:53:57.896Z"
   },
   {
    "duration": 0,
    "start_time": "2023-02-19T12:53:57.897Z"
   },
   {
    "duration": 3,
    "start_time": "2023-02-19T12:55:42.752Z"
   },
   {
    "duration": 1287,
    "start_time": "2023-02-19T12:55:50.248Z"
   },
   {
    "duration": 49,
    "start_time": "2023-02-19T12:55:51.538Z"
   },
   {
    "duration": 21,
    "start_time": "2023-02-19T12:55:51.589Z"
   },
   {
    "duration": 12,
    "start_time": "2023-02-19T12:55:51.611Z"
   },
   {
    "duration": 2055,
    "start_time": "2023-02-19T12:55:51.625Z"
   },
   {
    "duration": 3,
    "start_time": "2023-02-19T12:55:53.682Z"
   },
   {
    "duration": 7,
    "start_time": "2023-02-19T12:55:53.687Z"
   },
   {
    "duration": 5,
    "start_time": "2023-02-19T12:55:53.696Z"
   },
   {
    "duration": 8,
    "start_time": "2023-02-19T12:55:53.702Z"
   },
   {
    "duration": 78,
    "start_time": "2023-02-19T12:55:53.712Z"
   },
   {
    "duration": 4,
    "start_time": "2023-02-19T12:55:53.792Z"
   },
   {
    "duration": 11,
    "start_time": "2023-02-19T12:55:53.798Z"
   },
   {
    "duration": 35,
    "start_time": "2023-02-19T12:55:53.811Z"
   },
   {
    "duration": 14,
    "start_time": "2023-02-19T12:55:53.850Z"
   },
   {
    "duration": 10,
    "start_time": "2023-02-19T12:55:53.865Z"
   },
   {
    "duration": 27,
    "start_time": "2023-02-19T12:55:53.877Z"
   },
   {
    "duration": 21,
    "start_time": "2023-02-19T12:55:53.905Z"
   },
   {
    "duration": 4,
    "start_time": "2023-02-19T12:55:53.927Z"
   },
   {
    "duration": 125,
    "start_time": "2023-02-19T12:55:53.932Z"
   },
   {
    "duration": 17,
    "start_time": "2023-02-19T12:55:54.059Z"
   },
   {
    "duration": 9,
    "start_time": "2023-02-19T12:55:54.078Z"
   },
   {
    "duration": 60,
    "start_time": "2023-02-19T12:55:54.088Z"
   },
   {
    "duration": 124,
    "start_time": "2023-02-19T12:55:54.243Z"
   },
   {
    "duration": 11,
    "start_time": "2023-02-19T12:55:54.368Z"
   },
   {
    "duration": 28,
    "start_time": "2023-02-19T12:55:54.380Z"
   },
   {
    "duration": 425,
    "start_time": "2023-02-19T12:55:54.409Z"
   },
   {
    "duration": 23,
    "start_time": "2023-02-19T12:55:54.839Z"
   },
   {
    "duration": 30867,
    "start_time": "2023-02-19T12:55:54.863Z"
   },
   {
    "duration": 652,
    "start_time": "2023-02-19T12:56:25.737Z"
   },
   {
    "duration": 7,
    "start_time": "2023-02-19T12:56:26.390Z"
   },
   {
    "duration": 10,
    "start_time": "2023-02-19T12:56:26.399Z"
   },
   {
    "duration": 173,
    "start_time": "2023-02-19T12:56:26.411Z"
   },
   {
    "duration": 9,
    "start_time": "2023-02-19T12:56:26.586Z"
   },
   {
    "duration": 43679,
    "start_time": "2023-02-19T12:56:26.597Z"
   },
   {
    "duration": 819,
    "start_time": "2023-02-19T12:57:10.277Z"
   },
   {
    "duration": 9,
    "start_time": "2023-02-19T12:57:11.098Z"
   },
   {
    "duration": 22377,
    "start_time": "2023-02-19T12:57:11.108Z"
   },
   {
    "duration": 398,
    "start_time": "2023-02-19T12:57:33.486Z"
   },
   {
    "duration": 11,
    "start_time": "2023-02-19T12:57:33.886Z"
   },
   {
    "duration": 168,
    "start_time": "2023-02-19T12:57:33.898Z"
   },
   {
    "duration": 403,
    "start_time": "2023-02-19T12:57:34.069Z"
   },
   {
    "duration": 182,
    "start_time": "2023-02-19T12:57:34.474Z"
   },
   {
    "duration": 11,
    "start_time": "2023-02-19T12:57:34.658Z"
   },
   {
    "duration": 19,
    "start_time": "2023-02-19T12:57:34.671Z"
   },
   {
    "duration": 1362,
    "start_time": "2023-02-20T09:40:57.827Z"
   },
   {
    "duration": 35,
    "start_time": "2023-02-20T09:41:01.308Z"
   },
   {
    "duration": 20,
    "start_time": "2023-02-20T09:41:03.392Z"
   },
   {
    "duration": 12,
    "start_time": "2023-02-20T09:41:03.774Z"
   },
   {
    "duration": 1937,
    "start_time": "2023-02-20T09:41:06.052Z"
   },
   {
    "duration": 4,
    "start_time": "2023-02-20T09:41:10.412Z"
   },
   {
    "duration": 4,
    "start_time": "2023-02-20T09:41:10.988Z"
   },
   {
    "duration": 5,
    "start_time": "2023-02-20T09:41:11.875Z"
   },
   {
    "duration": 9,
    "start_time": "2023-02-20T09:41:14.263Z"
   },
   {
    "duration": 54,
    "start_time": "2023-02-20T09:41:15.025Z"
   },
   {
    "duration": 5,
    "start_time": "2023-02-20T09:41:34.810Z"
   },
   {
    "duration": 8,
    "start_time": "2023-02-20T09:41:40.762Z"
   },
   {
    "duration": 12,
    "start_time": "2023-02-20T09:41:44.610Z"
   },
   {
    "duration": 13,
    "start_time": "2023-02-20T09:41:47.072Z"
   },
   {
    "duration": 6,
    "start_time": "2023-02-20T09:41:48.096Z"
   },
   {
    "duration": 10,
    "start_time": "2023-02-20T09:41:49.063Z"
   },
   {
    "duration": 30,
    "start_time": "2023-02-20T09:41:50.114Z"
   },
   {
    "duration": 4,
    "start_time": "2023-02-20T09:41:53.671Z"
   },
   {
    "duration": 128,
    "start_time": "2023-02-20T09:42:29.573Z"
   },
   {
    "duration": 11,
    "start_time": "2023-02-20T10:43:53.260Z"
   },
   {
    "duration": 123,
    "start_time": "2023-02-20T10:47:35.459Z"
   },
   {
    "duration": 12,
    "start_time": "2023-02-20T10:48:01.531Z"
   },
   {
    "duration": 10,
    "start_time": "2023-02-20T10:49:24.669Z"
   },
   {
    "duration": 13,
    "start_time": "2023-02-20T10:49:30.816Z"
   },
   {
    "duration": 12,
    "start_time": "2023-02-20T10:49:32.401Z"
   },
   {
    "duration": 9,
    "start_time": "2023-02-20T10:49:44.651Z"
   },
   {
    "duration": 1318,
    "start_time": "2023-02-20T10:49:59.901Z"
   },
   {
    "duration": 44,
    "start_time": "2023-02-20T10:50:01.866Z"
   },
   {
    "duration": 29,
    "start_time": "2023-02-20T10:50:02.520Z"
   },
   {
    "duration": 13,
    "start_time": "2023-02-20T10:50:02.828Z"
   },
   {
    "duration": 1976,
    "start_time": "2023-02-20T10:50:03.903Z"
   },
   {
    "duration": 4,
    "start_time": "2023-02-20T10:50:05.881Z"
   },
   {
    "duration": 11,
    "start_time": "2023-02-20T10:50:05.887Z"
   },
   {
    "duration": 5,
    "start_time": "2023-02-20T10:50:06.182Z"
   },
   {
    "duration": 9,
    "start_time": "2023-02-20T10:50:06.834Z"
   },
   {
    "duration": 64,
    "start_time": "2023-02-20T10:50:07.152Z"
   },
   {
    "duration": 6,
    "start_time": "2023-02-20T10:50:07.853Z"
   },
   {
    "duration": 9,
    "start_time": "2023-02-20T10:50:08.895Z"
   },
   {
    "duration": 18,
    "start_time": "2023-02-20T10:50:09.469Z"
   },
   {
    "duration": 15,
    "start_time": "2023-02-20T10:50:09.930Z"
   },
   {
    "duration": 5,
    "start_time": "2023-02-20T10:50:10.466Z"
   },
   {
    "duration": 8,
    "start_time": "2023-02-20T10:50:11.052Z"
   },
   {
    "duration": 22,
    "start_time": "2023-02-20T10:50:11.547Z"
   },
   {
    "duration": 4,
    "start_time": "2023-02-20T10:50:12.353Z"
   },
   {
    "duration": 119,
    "start_time": "2023-02-20T10:50:14.469Z"
   },
   {
    "duration": 16,
    "start_time": "2023-02-20T10:50:19.949Z"
   },
   {
    "duration": 103,
    "start_time": "2023-02-20T10:50:21.082Z"
   },
   {
    "duration": 10,
    "start_time": "2023-02-20T10:50:31.202Z"
   },
   {
    "duration": 11,
    "start_time": "2023-02-20T10:50:43.683Z"
   },
   {
    "duration": 3,
    "start_time": "2023-02-20T10:53:06.866Z"
   },
   {
    "duration": 4,
    "start_time": "2023-02-20T10:53:24.418Z"
   },
   {
    "duration": 13,
    "start_time": "2023-02-20T10:54:02.315Z"
   },
   {
    "duration": 3,
    "start_time": "2023-02-20T10:54:02.919Z"
   },
   {
    "duration": 7,
    "start_time": "2023-02-20T10:54:55.471Z"
   },
   {
    "duration": 8,
    "start_time": "2023-02-20T10:55:21.801Z"
   },
   {
    "duration": 5,
    "start_time": "2023-02-20T11:14:00.515Z"
   },
   {
    "duration": 332,
    "start_time": "2023-02-20T11:16:33.253Z"
   },
   {
    "duration": 27,
    "start_time": "2023-02-20T11:17:22.349Z"
   },
   {
    "duration": 21,
    "start_time": "2023-02-20T11:21:56.730Z"
   },
   {
    "duration": 22,
    "start_time": "2023-02-20T11:22:22.950Z"
   },
   {
    "duration": 19,
    "start_time": "2023-02-20T11:23:43.903Z"
   },
   {
    "duration": 1606,
    "start_time": "2023-02-20T11:24:15.780Z"
   },
   {
    "duration": 47,
    "start_time": "2023-02-20T11:24:18.831Z"
   },
   {
    "duration": 34,
    "start_time": "2023-02-20T11:24:19.565Z"
   },
   {
    "duration": 17,
    "start_time": "2023-02-20T11:24:19.825Z"
   },
   {
    "duration": 3271,
    "start_time": "2023-02-20T11:24:20.697Z"
   },
   {
    "duration": 5,
    "start_time": "2023-02-20T11:24:23.971Z"
   },
   {
    "duration": 10,
    "start_time": "2023-02-20T11:24:23.978Z"
   },
   {
    "duration": 9,
    "start_time": "2023-02-20T11:24:23.991Z"
   },
   {
    "duration": 10,
    "start_time": "2023-02-20T11:24:24.002Z"
   },
   {
    "duration": 61,
    "start_time": "2023-02-20T11:24:24.038Z"
   },
   {
    "duration": 5,
    "start_time": "2023-02-20T11:24:24.101Z"
   },
   {
    "duration": 31,
    "start_time": "2023-02-20T11:24:24.108Z"
   },
   {
    "duration": 18,
    "start_time": "2023-02-20T11:24:24.340Z"
   },
   {
    "duration": 16,
    "start_time": "2023-02-20T11:24:24.726Z"
   },
   {
    "duration": 6,
    "start_time": "2023-02-20T11:24:25.093Z"
   },
   {
    "duration": 10,
    "start_time": "2023-02-20T11:24:25.492Z"
   },
   {
    "duration": 30,
    "start_time": "2023-02-20T11:24:25.860Z"
   },
   {
    "duration": 5,
    "start_time": "2023-02-20T11:24:26.409Z"
   },
   {
    "duration": 134,
    "start_time": "2023-02-20T11:24:28.011Z"
   },
   {
    "duration": 11,
    "start_time": "2023-02-20T11:24:29.949Z"
   },
   {
    "duration": 8,
    "start_time": "2023-02-20T11:24:31.596Z"
   },
   {
    "duration": 8,
    "start_time": "2023-02-20T11:24:32.292Z"
   },
   {
    "duration": 29,
    "start_time": "2023-02-20T11:24:36.679Z"
   },
   {
    "duration": 1675,
    "start_time": "2023-02-20T11:27:21.763Z"
   },
   {
    "duration": 48,
    "start_time": "2023-02-20T11:27:23.440Z"
   },
   {
    "duration": 24,
    "start_time": "2023-02-20T11:27:23.607Z"
   },
   {
    "duration": 16,
    "start_time": "2023-02-20T11:27:23.773Z"
   },
   {
    "duration": 2270,
    "start_time": "2023-02-20T11:27:24.274Z"
   },
   {
    "duration": 9,
    "start_time": "2023-02-20T11:27:26.546Z"
   },
   {
    "duration": 27,
    "start_time": "2023-02-20T11:27:26.560Z"
   },
   {
    "duration": 5,
    "start_time": "2023-02-20T11:27:26.591Z"
   },
   {
    "duration": 14,
    "start_time": "2023-02-20T11:27:26.597Z"
   },
   {
    "duration": 76,
    "start_time": "2023-02-20T11:27:26.612Z"
   },
   {
    "duration": 5,
    "start_time": "2023-02-20T11:27:26.690Z"
   },
   {
    "duration": 9,
    "start_time": "2023-02-20T11:27:26.989Z"
   },
   {
    "duration": 18,
    "start_time": "2023-02-20T11:27:27.357Z"
   },
   {
    "duration": 16,
    "start_time": "2023-02-20T11:27:27.673Z"
   },
   {
    "duration": 7,
    "start_time": "2023-02-20T11:27:28.024Z"
   },
   {
    "duration": 12,
    "start_time": "2023-02-20T11:27:28.408Z"
   },
   {
    "duration": 32,
    "start_time": "2023-02-20T11:27:28.775Z"
   },
   {
    "duration": 5,
    "start_time": "2023-02-20T11:27:29.306Z"
   },
   {
    "duration": 160,
    "start_time": "2023-02-20T11:27:30.813Z"
   },
   {
    "duration": 14,
    "start_time": "2023-02-20T11:27:33.702Z"
   },
   {
    "duration": 9,
    "start_time": "2023-02-20T11:27:35.161Z"
   },
   {
    "duration": 7,
    "start_time": "2023-02-20T11:27:35.596Z"
   },
   {
    "duration": 120,
    "start_time": "2023-02-20T11:27:39.212Z"
   },
   {
    "duration": 32,
    "start_time": "2023-02-20T11:27:50.777Z"
   },
   {
    "duration": 15,
    "start_time": "2023-02-20T11:29:15.028Z"
   },
   {
    "duration": 23,
    "start_time": "2023-02-20T11:34:11.954Z"
   },
   {
    "duration": 20,
    "start_time": "2023-02-20T11:34:38.596Z"
   },
   {
    "duration": 13,
    "start_time": "2023-02-20T11:34:51.880Z"
   },
   {
    "duration": 23,
    "start_time": "2023-02-20T11:36:51.427Z"
   },
   {
    "duration": 1370,
    "start_time": "2023-02-20T11:37:04.194Z"
   },
   {
    "duration": 39,
    "start_time": "2023-02-20T11:37:05.566Z"
   },
   {
    "duration": 23,
    "start_time": "2023-02-20T11:37:05.607Z"
   },
   {
    "duration": 45,
    "start_time": "2023-02-20T11:37:05.639Z"
   },
   {
    "duration": 3591,
    "start_time": "2023-02-20T11:37:05.686Z"
   },
   {
    "duration": 3,
    "start_time": "2023-02-20T11:37:09.278Z"
   },
   {
    "duration": 8,
    "start_time": "2023-02-20T11:37:09.283Z"
   },
   {
    "duration": 9,
    "start_time": "2023-02-20T11:37:09.293Z"
   },
   {
    "duration": 21,
    "start_time": "2023-02-20T11:37:09.304Z"
   },
   {
    "duration": 80,
    "start_time": "2023-02-20T11:37:09.328Z"
   },
   {
    "duration": 5,
    "start_time": "2023-02-20T11:37:09.411Z"
   },
   {
    "duration": 8,
    "start_time": "2023-02-20T11:37:09.417Z"
   },
   {
    "duration": 18,
    "start_time": "2023-02-20T11:37:09.436Z"
   },
   {
    "duration": 22,
    "start_time": "2023-02-20T11:37:09.456Z"
   },
   {
    "duration": 5,
    "start_time": "2023-02-20T11:37:09.479Z"
   },
   {
    "duration": 12,
    "start_time": "2023-02-20T11:37:09.485Z"
   },
   {
    "duration": 22,
    "start_time": "2023-02-20T11:37:09.498Z"
   },
   {
    "duration": 22,
    "start_time": "2023-02-20T11:37:09.521Z"
   },
   {
    "duration": 135,
    "start_time": "2023-02-20T11:37:09.544Z"
   },
   {
    "duration": 11,
    "start_time": "2023-02-20T11:37:09.681Z"
   },
   {
    "duration": 6,
    "start_time": "2023-02-20T11:37:09.694Z"
   },
   {
    "duration": 9,
    "start_time": "2023-02-20T11:37:09.702Z"
   },
   {
    "duration": 32,
    "start_time": "2023-02-20T11:37:09.739Z"
   },
   {
    "duration": 21,
    "start_time": "2023-02-20T11:37:09.773Z"
   },
   {
    "duration": 132,
    "start_time": "2023-02-20T11:37:09.796Z"
   },
   {
    "duration": 134,
    "start_time": "2023-02-20T11:37:09.930Z"
   },
   {
    "duration": 0,
    "start_time": "2023-02-20T11:37:10.066Z"
   },
   {
    "duration": 0,
    "start_time": "2023-02-20T11:37:10.067Z"
   },
   {
    "duration": 0,
    "start_time": "2023-02-20T11:37:10.068Z"
   },
   {
    "duration": 0,
    "start_time": "2023-02-20T11:37:10.069Z"
   },
   {
    "duration": 0,
    "start_time": "2023-02-20T11:37:10.070Z"
   },
   {
    "duration": 0,
    "start_time": "2023-02-20T11:37:10.071Z"
   },
   {
    "duration": 0,
    "start_time": "2023-02-20T11:37:10.073Z"
   },
   {
    "duration": 0,
    "start_time": "2023-02-20T11:37:10.074Z"
   },
   {
    "duration": 0,
    "start_time": "2023-02-20T11:37:10.075Z"
   },
   {
    "duration": 0,
    "start_time": "2023-02-20T11:37:10.076Z"
   },
   {
    "duration": 0,
    "start_time": "2023-02-20T11:37:10.077Z"
   },
   {
    "duration": 0,
    "start_time": "2023-02-20T11:37:10.078Z"
   },
   {
    "duration": 0,
    "start_time": "2023-02-20T11:37:10.079Z"
   },
   {
    "duration": 0,
    "start_time": "2023-02-20T11:37:10.080Z"
   },
   {
    "duration": 0,
    "start_time": "2023-02-20T11:37:10.081Z"
   },
   {
    "duration": 0,
    "start_time": "2023-02-20T11:37:10.081Z"
   },
   {
    "duration": 0,
    "start_time": "2023-02-20T11:37:10.082Z"
   },
   {
    "duration": 0,
    "start_time": "2023-02-20T11:37:10.083Z"
   },
   {
    "duration": 0,
    "start_time": "2023-02-20T11:37:10.084Z"
   },
   {
    "duration": 0,
    "start_time": "2023-02-20T11:37:10.085Z"
   },
   {
    "duration": 0,
    "start_time": "2023-02-20T11:37:10.086Z"
   },
   {
    "duration": 0,
    "start_time": "2023-02-20T11:37:10.087Z"
   },
   {
    "duration": 0,
    "start_time": "2023-02-20T11:37:10.087Z"
   },
   {
    "duration": 13,
    "start_time": "2023-02-20T11:42:24.913Z"
   },
   {
    "duration": 31,
    "start_time": "2023-02-20T11:44:35.559Z"
   },
   {
    "duration": 1422,
    "start_time": "2023-02-20T11:44:41.754Z"
   },
   {
    "duration": 37,
    "start_time": "2023-02-20T11:44:43.177Z"
   },
   {
    "duration": 38,
    "start_time": "2023-02-20T11:44:43.216Z"
   },
   {
    "duration": 16,
    "start_time": "2023-02-20T11:44:43.260Z"
   },
   {
    "duration": 2188,
    "start_time": "2023-02-20T11:44:43.277Z"
   },
   {
    "duration": 4,
    "start_time": "2023-02-20T11:44:45.467Z"
   },
   {
    "duration": 13,
    "start_time": "2023-02-20T11:44:45.473Z"
   },
   {
    "duration": 18,
    "start_time": "2023-02-20T11:44:45.488Z"
   },
   {
    "duration": 23,
    "start_time": "2023-02-20T11:44:45.508Z"
   },
   {
    "duration": 77,
    "start_time": "2023-02-20T11:44:45.534Z"
   },
   {
    "duration": 5,
    "start_time": "2023-02-20T11:44:45.613Z"
   },
   {
    "duration": 18,
    "start_time": "2023-02-20T11:44:45.621Z"
   },
   {
    "duration": 43,
    "start_time": "2023-02-20T11:44:45.643Z"
   },
   {
    "duration": 18,
    "start_time": "2023-02-20T11:44:45.688Z"
   },
   {
    "duration": 5,
    "start_time": "2023-02-20T11:44:45.708Z"
   },
   {
    "duration": 14,
    "start_time": "2023-02-20T11:44:45.715Z"
   },
   {
    "duration": 26,
    "start_time": "2023-02-20T11:44:45.731Z"
   },
   {
    "duration": 15,
    "start_time": "2023-02-20T11:44:45.759Z"
   },
   {
    "duration": 139,
    "start_time": "2023-02-20T11:44:45.776Z"
   },
   {
    "duration": 33,
    "start_time": "2023-02-20T11:44:45.917Z"
   },
   {
    "duration": 11,
    "start_time": "2023-02-20T11:44:45.952Z"
   },
   {
    "duration": 6,
    "start_time": "2023-02-20T11:44:45.973Z"
   },
   {
    "duration": 37,
    "start_time": "2023-02-20T11:44:45.980Z"
   },
   {
    "duration": 1083,
    "start_time": "2023-02-20T11:44:46.019Z"
   },
   {
    "duration": 0,
    "start_time": "2023-02-20T11:44:47.104Z"
   },
   {
    "duration": 0,
    "start_time": "2023-02-20T11:44:47.107Z"
   },
   {
    "duration": 0,
    "start_time": "2023-02-20T11:44:47.108Z"
   },
   {
    "duration": 0,
    "start_time": "2023-02-20T11:44:47.109Z"
   },
   {
    "duration": 1,
    "start_time": "2023-02-20T11:44:47.111Z"
   },
   {
    "duration": 0,
    "start_time": "2023-02-20T11:44:47.113Z"
   },
   {
    "duration": 0,
    "start_time": "2023-02-20T11:44:47.114Z"
   },
   {
    "duration": 0,
    "start_time": "2023-02-20T11:44:47.138Z"
   },
   {
    "duration": 0,
    "start_time": "2023-02-20T11:44:47.139Z"
   },
   {
    "duration": 0,
    "start_time": "2023-02-20T11:44:47.140Z"
   },
   {
    "duration": 0,
    "start_time": "2023-02-20T11:44:47.141Z"
   },
   {
    "duration": 0,
    "start_time": "2023-02-20T11:44:47.142Z"
   },
   {
    "duration": 0,
    "start_time": "2023-02-20T11:44:47.143Z"
   },
   {
    "duration": 0,
    "start_time": "2023-02-20T11:44:47.145Z"
   },
   {
    "duration": 0,
    "start_time": "2023-02-20T11:44:47.146Z"
   },
   {
    "duration": 0,
    "start_time": "2023-02-20T11:44:47.147Z"
   },
   {
    "duration": 0,
    "start_time": "2023-02-20T11:44:47.149Z"
   },
   {
    "duration": 0,
    "start_time": "2023-02-20T11:44:47.150Z"
   },
   {
    "duration": 0,
    "start_time": "2023-02-20T11:44:47.151Z"
   },
   {
    "duration": 0,
    "start_time": "2023-02-20T11:44:47.152Z"
   },
   {
    "duration": 0,
    "start_time": "2023-02-20T11:44:47.153Z"
   },
   {
    "duration": 0,
    "start_time": "2023-02-20T11:44:47.154Z"
   },
   {
    "duration": 0,
    "start_time": "2023-02-20T11:44:47.156Z"
   },
   {
    "duration": 0,
    "start_time": "2023-02-20T11:44:47.157Z"
   },
   {
    "duration": 22,
    "start_time": "2023-02-20T11:45:12.960Z"
   },
   {
    "duration": 1624,
    "start_time": "2023-02-20T11:45:23.156Z"
   },
   {
    "duration": 37,
    "start_time": "2023-02-20T11:45:24.782Z"
   },
   {
    "duration": 42,
    "start_time": "2023-02-20T11:45:25.021Z"
   },
   {
    "duration": 14,
    "start_time": "2023-02-20T11:45:25.202Z"
   },
   {
    "duration": 2180,
    "start_time": "2023-02-20T11:45:25.739Z"
   },
   {
    "duration": 4,
    "start_time": "2023-02-20T11:45:27.922Z"
   },
   {
    "duration": 5,
    "start_time": "2023-02-20T11:45:27.938Z"
   },
   {
    "duration": 76,
    "start_time": "2023-02-20T11:45:27.946Z"
   },
   {
    "duration": 9,
    "start_time": "2023-02-20T11:45:28.024Z"
   },
   {
    "duration": 72,
    "start_time": "2023-02-20T11:45:28.035Z"
   },
   {
    "duration": 5,
    "start_time": "2023-02-20T11:45:28.109Z"
   },
   {
    "duration": 9,
    "start_time": "2023-02-20T11:45:28.360Z"
   },
   {
    "duration": 16,
    "start_time": "2023-02-20T11:45:28.757Z"
   },
   {
    "duration": 15,
    "start_time": "2023-02-20T11:45:29.105Z"
   },
   {
    "duration": 6,
    "start_time": "2023-02-20T11:45:29.491Z"
   },
   {
    "duration": 9,
    "start_time": "2023-02-20T11:45:29.837Z"
   },
   {
    "duration": 40,
    "start_time": "2023-02-20T11:45:30.222Z"
   },
   {
    "duration": 5,
    "start_time": "2023-02-20T11:45:30.824Z"
   },
   {
    "duration": 144,
    "start_time": "2023-02-20T11:45:32.589Z"
   },
   {
    "duration": 13,
    "start_time": "2023-02-20T11:45:34.021Z"
   },
   {
    "duration": 6,
    "start_time": "2023-02-20T11:45:34.572Z"
   },
   {
    "duration": 7,
    "start_time": "2023-02-20T11:45:34.926Z"
   },
   {
    "duration": 35,
    "start_time": "2023-02-20T11:45:37.143Z"
   },
   {
    "duration": 20,
    "start_time": "2023-02-20T11:46:09.027Z"
   },
   {
    "duration": 11,
    "start_time": "2023-02-20T11:47:33.208Z"
   },
   {
    "duration": 15,
    "start_time": "2023-02-20T11:47:57.425Z"
   },
   {
    "duration": 14,
    "start_time": "2023-02-20T11:48:19.345Z"
   },
   {
    "duration": 244,
    "start_time": "2023-02-20T11:52:37.829Z"
   },
   {
    "duration": 101,
    "start_time": "2023-02-20T11:52:56.670Z"
   },
   {
    "duration": 138,
    "start_time": "2023-02-20T11:53:02.370Z"
   },
   {
    "duration": 226,
    "start_time": "2023-02-20T11:53:10.141Z"
   },
   {
    "duration": 60,
    "start_time": "2023-02-20T11:53:42.753Z"
   },
   {
    "duration": 512,
    "start_time": "2023-02-20T11:53:58.725Z"
   },
   {
    "duration": 28,
    "start_time": "2023-02-20T11:54:24.744Z"
   },
   {
    "duration": 34,
    "start_time": "2023-02-20T11:54:37.873Z"
   },
   {
    "duration": 27,
    "start_time": "2023-02-20T11:54:51.443Z"
   },
   {
    "duration": 30,
    "start_time": "2023-02-20T11:54:56.195Z"
   },
   {
    "duration": 28470,
    "start_time": "2023-02-20T11:55:36.694Z"
   },
   {
    "duration": 324,
    "start_time": "2023-02-20T11:56:17.390Z"
   },
   {
    "duration": 7,
    "start_time": "2023-02-20T11:56:57.610Z"
   },
   {
    "duration": 12,
    "start_time": "2023-02-20T11:57:05.493Z"
   },
   {
    "duration": 148,
    "start_time": "2023-02-20T11:57:34.527Z"
   },
   {
    "duration": 10,
    "start_time": "2023-02-20T11:59:38.575Z"
   },
   {
    "duration": 12,
    "start_time": "2023-02-20T12:00:51.057Z"
   },
   {
    "duration": 11,
    "start_time": "2023-02-20T12:01:14.193Z"
   },
   {
    "duration": 3,
    "start_time": "2023-02-20T12:03:47.963Z"
   },
   {
    "duration": 13,
    "start_time": "2023-02-20T12:08:21.894Z"
   },
   {
    "duration": 16,
    "start_time": "2023-02-20T12:08:37.610Z"
   },
   {
    "duration": 43320,
    "start_time": "2023-02-20T12:08:53.308Z"
   },
   {
    "duration": 651,
    "start_time": "2023-02-20T12:09:53.061Z"
   },
   {
    "duration": 15,
    "start_time": "2023-02-20T12:10:15.362Z"
   },
   {
    "duration": 21733,
    "start_time": "2023-02-20T12:10:27.578Z"
   },
   {
    "duration": 432,
    "start_time": "2023-02-20T12:11:00.411Z"
   },
   {
    "duration": 12,
    "start_time": "2023-02-20T12:11:03.857Z"
   },
   {
    "duration": 15,
    "start_time": "2023-02-20T12:11:23.926Z"
   },
   {
    "duration": 160,
    "start_time": "2023-02-20T12:11:31.289Z"
   },
   {
    "duration": 610,
    "start_time": "2023-02-20T12:18:32.407Z"
   },
   {
    "duration": 530,
    "start_time": "2023-02-20T12:18:42.658Z"
   },
   {
    "duration": 12,
    "start_time": "2023-02-20T12:19:44.709Z"
   },
   {
    "duration": 177,
    "start_time": "2023-02-20T12:19:58.456Z"
   },
   {
    "duration": 14,
    "start_time": "2023-02-20T12:20:40.425Z"
   },
   {
    "duration": 11,
    "start_time": "2023-02-20T12:20:49.920Z"
   },
   {
    "duration": 1260,
    "start_time": "2023-02-20T12:22:08.977Z"
   },
   {
    "duration": 35,
    "start_time": "2023-02-20T12:22:10.239Z"
   },
   {
    "duration": 20,
    "start_time": "2023-02-20T12:22:10.275Z"
   },
   {
    "duration": 11,
    "start_time": "2023-02-20T12:22:10.297Z"
   },
   {
    "duration": 1995,
    "start_time": "2023-02-20T12:22:10.310Z"
   },
   {
    "duration": 3,
    "start_time": "2023-02-20T12:22:12.307Z"
   },
   {
    "duration": 8,
    "start_time": "2023-02-20T12:22:12.312Z"
   },
   {
    "duration": 20,
    "start_time": "2023-02-20T12:22:12.322Z"
   },
   {
    "duration": 10,
    "start_time": "2023-02-20T12:22:12.344Z"
   },
   {
    "duration": 81,
    "start_time": "2023-02-20T12:22:12.357Z"
   },
   {
    "duration": 6,
    "start_time": "2023-02-20T12:22:12.440Z"
   },
   {
    "duration": 11,
    "start_time": "2023-02-20T12:22:12.448Z"
   },
   {
    "duration": 20,
    "start_time": "2023-02-20T12:22:12.462Z"
   },
   {
    "duration": 16,
    "start_time": "2023-02-20T12:22:12.485Z"
   },
   {
    "duration": 7,
    "start_time": "2023-02-20T12:22:12.503Z"
   },
   {
    "duration": 33,
    "start_time": "2023-02-20T12:22:12.511Z"
   },
   {
    "duration": 44,
    "start_time": "2023-02-20T12:22:12.546Z"
   },
   {
    "duration": 22,
    "start_time": "2023-02-20T12:22:12.592Z"
   },
   {
    "duration": 172,
    "start_time": "2023-02-20T12:22:12.616Z"
   },
   {
    "duration": 12,
    "start_time": "2023-02-20T12:22:12.789Z"
   },
   {
    "duration": 8,
    "start_time": "2023-02-20T12:22:12.802Z"
   },
   {
    "duration": 7,
    "start_time": "2023-02-20T12:22:12.812Z"
   },
   {
    "duration": 25,
    "start_time": "2023-02-20T12:22:12.837Z"
   },
   {
    "duration": 11,
    "start_time": "2023-02-20T12:22:12.864Z"
   },
   {
    "duration": 13,
    "start_time": "2023-02-20T12:22:12.877Z"
   },
   {
    "duration": 15,
    "start_time": "2023-02-20T12:22:12.892Z"
   },
   {
    "duration": 131,
    "start_time": "2023-02-20T12:22:12.908Z"
   },
   {
    "duration": 567,
    "start_time": "2023-02-20T12:22:13.043Z"
   },
   {
    "duration": 32,
    "start_time": "2023-02-20T12:22:13.612Z"
   },
   {
    "duration": 28860,
    "start_time": "2023-02-20T12:22:13.646Z"
   },
   {
    "duration": 373,
    "start_time": "2023-02-20T12:22:42.508Z"
   },
   {
    "duration": 7,
    "start_time": "2023-02-20T12:22:42.883Z"
   },
   {
    "duration": 13,
    "start_time": "2023-02-20T12:22:42.891Z"
   },
   {
    "duration": 159,
    "start_time": "2023-02-20T12:22:42.906Z"
   },
   {
    "duration": 12,
    "start_time": "2023-02-20T12:22:43.066Z"
   },
   {
    "duration": 41034,
    "start_time": "2023-02-20T12:22:43.080Z"
   },
   {
    "duration": 623,
    "start_time": "2023-02-20T12:23:24.116Z"
   },
   {
    "duration": 11,
    "start_time": "2023-02-20T12:23:24.741Z"
   },
   {
    "duration": 20985,
    "start_time": "2023-02-20T12:23:24.755Z"
   },
   {
    "duration": 340,
    "start_time": "2023-02-20T12:23:45.741Z"
   },
   {
    "duration": 10,
    "start_time": "2023-02-20T12:23:46.083Z"
   },
   {
    "duration": 157,
    "start_time": "2023-02-20T12:23:46.095Z"
   },
   {
    "duration": 384,
    "start_time": "2023-02-20T12:23:46.254Z"
   },
   {
    "duration": 158,
    "start_time": "2023-02-20T12:23:46.640Z"
   },
   {
    "duration": 9,
    "start_time": "2023-02-20T12:23:46.800Z"
   },
   {
    "duration": 27,
    "start_time": "2023-02-20T12:23:46.811Z"
   }
  ],
  "kernelspec": {
   "display_name": "Python 3 (ipykernel)",
   "language": "python",
   "name": "python3"
  },
  "language_info": {
   "codemirror_mode": {
    "name": "ipython",
    "version": 3
   },
   "file_extension": ".py",
   "mimetype": "text/x-python",
   "name": "python",
   "nbconvert_exporter": "python",
   "pygments_lexer": "ipython3",
   "version": "3.9.5"
  },
  "toc": {
   "base_numbering": 1,
   "nav_menu": {},
   "number_sections": true,
   "sideBar": true,
   "skip_h1_title": true,
   "title_cell": "Содержание",
   "title_sidebar": "Contents",
   "toc_cell": true,
   "toc_position": {
    "height": "calc(100% - 180px)",
    "left": "10px",
    "top": "150px",
    "width": "302.195px"
   },
   "toc_section_display": true,
   "toc_window_display": true
  }
 },
 "nbformat": 4,
 "nbformat_minor": 2
}
